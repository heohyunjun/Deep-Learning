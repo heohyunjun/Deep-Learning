{
  "nbformat": 4,
  "nbformat_minor": 0,
  "metadata": {
    "colab": {
      "name": "Untitled0.ipynb",
      "provenance": [],
      "authorship_tag": "ABX9TyOc/nTNIQKIdMBcdSxx5DHo"
    },
    "kernelspec": {
      "name": "python3",
      "display_name": "Python 3"
    },
    "language_info": {
      "name": "python"
    }
  },
  "cells": [
    {
      "cell_type": "markdown",
      "source": [
        "# 1주차 pytorch_basic "
      ],
      "metadata": {
        "id": "uv1vy7srem8b"
      }
    },
    {
      "cell_type": "code",
      "execution_count": 1,
      "metadata": {
        "id": "wUzAXPklYQ05"
      },
      "outputs": [],
      "source": [
        "import numpy as np\n",
        "import torch"
      ]
    },
    {
      "cell_type": "code",
      "source": [
        "# 1D Array with pyTorch\n",
        "t = torch.FloatTensor([0, 1, 2, 3, 4, 5, 6])\n",
        "print(t)\n",
        "\n",
        "print(t.dim()) #rank\n",
        "print(t.shape)\n",
        "print(t.size())"
      ],
      "metadata": {
        "colab": {
          "base_uri": "https://localhost:8080/"
        },
        "id": "RLYezSQXayvl",
        "outputId": "bd9c1e93-7394-4175-a8b9-f536fffe55a3"
      },
      "execution_count": 3,
      "outputs": [
        {
          "output_type": "stream",
          "name": "stdout",
          "text": [
            "tensor([0., 1., 2., 3., 4., 5., 6.])\n",
            "1\n",
            "torch.Size([7])\n",
            "torch.Size([7])\n"
          ]
        }
      ]
    },
    {
      "cell_type": "code",
      "source": [
        "# 2D Array with pyTorch\n",
        "t = torch.FloatTensor([[1, 2, 3],\n",
        "                       [4, 5, 6],\n",
        "                      [7, 8, 9],\n",
        "                       [7, 8, 9]])\n",
        "print(t)\n",
        "print(t.dim()) #rank\n",
        "print(t.shape)\n",
        "print(t.size())\n"
      ],
      "metadata": {
        "colab": {
          "base_uri": "https://localhost:8080/"
        },
        "id": "qNE_-8RrbBRr",
        "outputId": "628f9628-69c1-4744-9be5-d917fcd9d04d"
      },
      "execution_count": 8,
      "outputs": [
        {
          "output_type": "stream",
          "name": "stdout",
          "text": [
            "tensor([[1., 2., 3.],\n",
            "        [4., 5., 6.],\n",
            "        [7., 8., 9.],\n",
            "        [7., 8., 9.]])\n",
            "2\n",
            "torch.Size([4, 3])\n",
            "torch.Size([4, 3])\n"
          ]
        }
      ]
    },
    {
      "cell_type": "markdown",
      "source": [
        "# Broadcasting"
      ],
      "metadata": {
        "id": "ynT2h8Gyb5x6"
      }
    },
    {
      "cell_type": "code",
      "source": [
        "# same shape\n",
        "m1 = torch.FloatTensor([[3, 3]])\n",
        "m2 = torch.FloatTensor([[2, 2]])\n",
        "print(m1 + m2)\n",
        "\n",
        "# vector +scalar\n",
        "m1 = torch.FloatTensor([[1, 2]])\n",
        "m2 = torch.FloatTensor([3])\n",
        "print(m1 + m2)\n",
        "\n",
        "# 2 *1 vector + 1*2 vector\n",
        "m1 = torch.FloatTensor([[1, 2]])\n",
        "m2 = torch.FloatTensor([[3] , [4]])\n",
        "print(m1 + m2)"
      ],
      "metadata": {
        "colab": {
          "base_uri": "https://localhost:8080/"
        },
        "id": "jeySI3PzbS3L",
        "outputId": "7ccd9034-9c57-468b-de3e-8d10dd6320bd"
      },
      "execution_count": 10,
      "outputs": [
        {
          "output_type": "stream",
          "name": "stdout",
          "text": [
            "tensor([[5., 5.]])\n",
            "tensor([[4., 5.]])\n",
            "tensor([[4., 5.],\n",
            "        [5., 6.]])\n"
          ]
        }
      ]
    },
    {
      "cell_type": "code",
      "source": [
        "# sum\n",
        "t = torch.FloatTensor([[1, 2], [3, 4]])\n",
        "print(t)\n",
        "\n",
        "print(t.sum)\n",
        "print(t.sum(dim = 0))\n",
        "print(t.sum(dim = 1))"
      ],
      "metadata": {
        "colab": {
          "base_uri": "https://localhost:8080/"
        },
        "id": "iRHjXCpTcUk1",
        "outputId": "93037ec4-f8c3-40d4-c554-a874054503dc"
      },
      "execution_count": 11,
      "outputs": [
        {
          "output_type": "stream",
          "name": "stdout",
          "text": [
            "tensor([[1., 2.],\n",
            "        [3., 4.]])\n",
            "<built-in method sum of Tensor object at 0x7f40241cce30>\n",
            "tensor([4., 6.])\n",
            "tensor([3., 7.])\n"
          ]
        }
      ]
    },
    {
      "cell_type": "code",
      "source": [
        "# max\n",
        "t = torch.FloatTensor([[1, 2], [3, 4]])\n",
        "print(t.max())\n",
        "\n",
        "print(t.max(dim = 0))\n",
        "print('max', t.max(dim=0)[0])\n",
        "print('argmax' , t.max(dim = 0)[1])\n",
        "\n",
        "print(t.max(dim=1))"
      ],
      "metadata": {
        "colab": {
          "base_uri": "https://localhost:8080/"
        },
        "id": "32BEddYhd_Mb",
        "outputId": "f542003b-0273-4132-eafb-c9e845a61a9f"
      },
      "execution_count": 13,
      "outputs": [
        {
          "output_type": "stream",
          "name": "stdout",
          "text": [
            "tensor(4.)\n",
            "torch.return_types.max(\n",
            "values=tensor([3., 4.]),\n",
            "indices=tensor([1, 1]))\n",
            "max tensor([3., 4.])\n",
            "argmax tensor([1, 1])\n",
            "torch.return_types.max(\n",
            "values=tensor([2., 4.]),\n",
            "indices=tensor([1, 1]))\n"
          ]
        }
      ]
    },
    {
      "cell_type": "code",
      "source": [
        ""
      ],
      "metadata": {
        "id": "kzpWS8FWeTWA"
      },
      "execution_count": null,
      "outputs": []
    }
  ]
}