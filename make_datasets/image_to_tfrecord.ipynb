{
 "cells": [
  {
   "cell_type": "markdown",
   "id": "ec389318-96e9-401d-9844-984783683f57",
   "metadata": {},
   "source": [
    "# Change OIDv4 parameter"
   ]
  },
  {
   "cell_type": "code",
   "execution_count": 2,
   "id": "25cbcfa6-38dc-4dc8-a602-3f1a2f336a6f",
   "metadata": {},
   "outputs": [
    {
     "name": "stdout",
     "output_type": "stream",
     "text": [
      "Requirement already satisfied: tqdm in /root/anaconda3/envs/jun_env/lib/python3.7/site-packages (4.62.3)\n",
      "\u001b[33mWARNING: Running pip as the 'root' user can result in broken permissions and conflicting behaviour with the system package manager. It is recommended to use a virtual environment instead: https://pip.pypa.io/warnings/venv\u001b[0m\n"
     ]
    }
   ],
   "source": [
    "!pip install tqdm"
   ]
  },
  {
   "cell_type": "code",
   "execution_count": 7,
   "id": "6e1acd4c-1ac9-44f1-8859-3e090eb8cbc6",
   "metadata": {},
   "outputs": [
    {
     "ename": "KeyboardInterrupt",
     "evalue": "",
     "output_type": "error",
     "traceback": [
      "\u001b[0;31m---------------------------------------------------------------------------\u001b[0m",
      "\u001b[0;31mKeyboardInterrupt\u001b[0m                         Traceback (most recent call last)",
      "\u001b[0;32m/tmp/ipykernel_15441/1504181597.py\u001b[0m in \u001b[0;36m<module>\u001b[0;34m\u001b[0m\n\u001b[1;32m      6\u001b[0m     \u001b[0;31m# for class_ in ['Bicycle helmet', 'Human head', 'Hat', 'Helmet']:\u001b[0m\u001b[0;34m\u001b[0m\u001b[0;34m\u001b[0m\u001b[0m\n\u001b[1;32m      7\u001b[0m     \u001b[0;32mfor\u001b[0m \u001b[0mimg_path\u001b[0m \u001b[0;32min\u001b[0m \u001b[0mglob\u001b[0m\u001b[0;34m(\u001b[0m\u001b[0;34mf'/root/OIDv4_ToolKit/OID/Dataset/{tvt}/Bicyclehelmet_Hat_Helmet_Humanhead/*.jpg'\u001b[0m\u001b[0;34m)\u001b[0m\u001b[0;34m:\u001b[0m\u001b[0;34m\u001b[0m\u001b[0m\n\u001b[0;32m----> 8\u001b[0;31m         \u001b[0mimg\u001b[0m \u001b[0;34m=\u001b[0m \u001b[0mcv2\u001b[0m\u001b[0;34m.\u001b[0m\u001b[0mimread\u001b[0m\u001b[0;34m(\u001b[0m\u001b[0mimg_path\u001b[0m\u001b[0;34m)\u001b[0m\u001b[0;34m\u001b[0m\u001b[0m\n\u001b[0m\u001b[1;32m      9\u001b[0m         \u001b[0mimg\u001b[0m \u001b[0;34m=\u001b[0m \u001b[0mcv2\u001b[0m\u001b[0;34m.\u001b[0m\u001b[0mresize\u001b[0m\u001b[0;34m(\u001b[0m\u001b[0mimg\u001b[0m\u001b[0;34m,\u001b[0m \u001b[0mdsize\u001b[0m\u001b[0;34m=\u001b[0m\u001b[0;34m(\u001b[0m\u001b[0;36m300\u001b[0m\u001b[0;34m,\u001b[0m\u001b[0;36m300\u001b[0m\u001b[0;34m)\u001b[0m\u001b[0;34m)\u001b[0m\u001b[0;34m\u001b[0m\u001b[0m\n\u001b[1;32m     10\u001b[0m         \u001b[0mimg\u001b[0m \u001b[0;34m=\u001b[0m \u001b[0mcv2\u001b[0m\u001b[0;34m.\u001b[0m\u001b[0mimwrite\u001b[0m\u001b[0;34m(\u001b[0m\u001b[0mimg_path\u001b[0m\u001b[0;34m,\u001b[0m \u001b[0mimg\u001b[0m\u001b[0;34m)\u001b[0m\u001b[0;34m\u001b[0m\u001b[0m\n",
      "\u001b[0;31mKeyboardInterrupt\u001b[0m: "
     ]
    }
   ],
   "source": [
    "from tqdm import tqdm\n",
    "from glob import glob\n",
    "import cv2\n",
    "\n",
    "for tvt in ['train', 'validation', 'test']:\n",
    "    # for class_ in ['Bicycle helmet', 'Human head', 'Hat', 'Helmet']:\n",
    "    for img_path in tqdm(glob(f'/root/OIDv4_ToolKit/OID/Dataset/{tvt}/Bicyclehelmet_Hat_Helmet_Humanhead/*.jpg')):\n",
    "        img = cv2.imread(img_path)\n",
    "        img = cv2.resize(img, dsize=(300,300))\n",
    "        img = cv2.imwrite(img_path, img)"
   ]
  },
  {
   "cell_type": "code",
   "execution_count": 1,
   "id": "efe58584-4c12-410c-8e58-3ccbf1f510ba",
   "metadata": {},
   "outputs": [],
   "source": [
    "import pandas as pd\n",
    "train_df = pd.read_csv('/root/data/OIDv4_ToolKit/OID/csv_folder/train-annotations-bbox.csv')"
   ]
  },
  {
   "cell_type": "code",
   "execution_count": 2,
   "id": "26336842-3070-4d9d-8756-722917489498",
   "metadata": {},
   "outputs": [
    {
     "data": {
      "text/html": [
       "<div>\n",
       "<style scoped>\n",
       "    .dataframe tbody tr th:only-of-type {\n",
       "        vertical-align: middle;\n",
       "    }\n",
       "\n",
       "    .dataframe tbody tr th {\n",
       "        vertical-align: top;\n",
       "    }\n",
       "\n",
       "    .dataframe thead th {\n",
       "        text-align: right;\n",
       "    }\n",
       "</style>\n",
       "<table border=\"1\" class=\"dataframe\">\n",
       "  <thead>\n",
       "    <tr style=\"text-align: right;\">\n",
       "      <th></th>\n",
       "      <th>ImageID</th>\n",
       "      <th>Source</th>\n",
       "      <th>LabelName</th>\n",
       "      <th>Confidence</th>\n",
       "      <th>XMin</th>\n",
       "      <th>XMax</th>\n",
       "      <th>YMin</th>\n",
       "      <th>YMax</th>\n",
       "      <th>IsOccluded</th>\n",
       "      <th>IsTruncated</th>\n",
       "      <th>IsGroupOf</th>\n",
       "      <th>IsDepiction</th>\n",
       "      <th>IsInside</th>\n",
       "    </tr>\n",
       "  </thead>\n",
       "  <tbody>\n",
       "    <tr>\n",
       "      <th>0</th>\n",
       "      <td>000002b66c9c498e</td>\n",
       "      <td>xclick</td>\n",
       "      <td>/m/01g317</td>\n",
       "      <td>1</td>\n",
       "      <td>0.012500</td>\n",
       "      <td>0.195312</td>\n",
       "      <td>0.148438</td>\n",
       "      <td>0.587500</td>\n",
       "      <td>0</td>\n",
       "      <td>1</td>\n",
       "      <td>0</td>\n",
       "      <td>0</td>\n",
       "      <td>0</td>\n",
       "    </tr>\n",
       "    <tr>\n",
       "      <th>1</th>\n",
       "      <td>000002b66c9c498e</td>\n",
       "      <td>xclick</td>\n",
       "      <td>/m/01g317</td>\n",
       "      <td>1</td>\n",
       "      <td>0.025000</td>\n",
       "      <td>0.276563</td>\n",
       "      <td>0.714063</td>\n",
       "      <td>0.948438</td>\n",
       "      <td>0</td>\n",
       "      <td>1</td>\n",
       "      <td>0</td>\n",
       "      <td>0</td>\n",
       "      <td>0</td>\n",
       "    </tr>\n",
       "    <tr>\n",
       "      <th>2</th>\n",
       "      <td>000002b66c9c498e</td>\n",
       "      <td>xclick</td>\n",
       "      <td>/m/01g317</td>\n",
       "      <td>1</td>\n",
       "      <td>0.151562</td>\n",
       "      <td>0.310937</td>\n",
       "      <td>0.198437</td>\n",
       "      <td>0.590625</td>\n",
       "      <td>1</td>\n",
       "      <td>0</td>\n",
       "      <td>0</td>\n",
       "      <td>0</td>\n",
       "      <td>0</td>\n",
       "    </tr>\n",
       "    <tr>\n",
       "      <th>3</th>\n",
       "      <td>000002b66c9c498e</td>\n",
       "      <td>xclick</td>\n",
       "      <td>/m/01g317</td>\n",
       "      <td>1</td>\n",
       "      <td>0.256250</td>\n",
       "      <td>0.429688</td>\n",
       "      <td>0.651563</td>\n",
       "      <td>0.925000</td>\n",
       "      <td>1</td>\n",
       "      <td>0</td>\n",
       "      <td>0</td>\n",
       "      <td>0</td>\n",
       "      <td>0</td>\n",
       "    </tr>\n",
       "    <tr>\n",
       "      <th>4</th>\n",
       "      <td>000002b66c9c498e</td>\n",
       "      <td>xclick</td>\n",
       "      <td>/m/01g317</td>\n",
       "      <td>1</td>\n",
       "      <td>0.257812</td>\n",
       "      <td>0.346875</td>\n",
       "      <td>0.235938</td>\n",
       "      <td>0.385938</td>\n",
       "      <td>1</td>\n",
       "      <td>0</td>\n",
       "      <td>0</td>\n",
       "      <td>0</td>\n",
       "      <td>0</td>\n",
       "    </tr>\n",
       "  </tbody>\n",
       "</table>\n",
       "</div>"
      ],
      "text/plain": [
       "            ImageID  Source  LabelName  Confidence      XMin      XMax  \\\n",
       "0  000002b66c9c498e  xclick  /m/01g317           1  0.012500  0.195312   \n",
       "1  000002b66c9c498e  xclick  /m/01g317           1  0.025000  0.276563   \n",
       "2  000002b66c9c498e  xclick  /m/01g317           1  0.151562  0.310937   \n",
       "3  000002b66c9c498e  xclick  /m/01g317           1  0.256250  0.429688   \n",
       "4  000002b66c9c498e  xclick  /m/01g317           1  0.257812  0.346875   \n",
       "\n",
       "       YMin      YMax  IsOccluded  IsTruncated  IsGroupOf  IsDepiction  \\\n",
       "0  0.148438  0.587500           0            1          0            0   \n",
       "1  0.714063  0.948438           0            1          0            0   \n",
       "2  0.198437  0.590625           1            0          0            0   \n",
       "3  0.651563  0.925000           1            0          0            0   \n",
       "4  0.235938  0.385938           1            0          0            0   \n",
       "\n",
       "   IsInside  \n",
       "0         0  \n",
       "1         0  \n",
       "2         0  \n",
       "3         0  \n",
       "4         0  "
      ]
     },
     "execution_count": 2,
     "metadata": {},
     "output_type": "execute_result"
    }
   ],
   "source": [
    "train_df.head()"
   ]
  },
  {
   "cell_type": "code",
   "execution_count": 3,
   "id": "30abf784-a37b-4bbd-856f-866e82fbef3c",
   "metadata": {},
   "outputs": [],
   "source": [
    "# /m/0zvk5 : 헬멧, /m/03p3bw : 바이시클헬멧, /m/02dl1y : 모자, /m/04hgtk : 사람얼굴\n",
    "replace_map = {'/m/0zvk5' : '/m/1q2w3e', '/m/03p3bw' : '/m/1q2w3e', '/m/02dl1y' : '/m/4r5t6y', '/m/04hgtk' : '/m/7u8i9o'}"
   ]
  },
  {
   "cell_type": "code",
   "execution_count": 4,
   "id": "8797ad24-711c-4882-8346-7115820565b2",
   "metadata": {},
   "outputs": [],
   "source": [
    "train_df = train_df.replace(replace_map)"
   ]
  },
  {
   "cell_type": "code",
   "execution_count": 5,
   "id": "f14dd50e-f924-4281-9832-39849cab6eac",
   "metadata": {},
   "outputs": [],
   "source": [
    "train_df.to_csv('/root/data/OIDv4_ToolKit/OID/csv_folder/train-annotations-bbox1.csv', header=True, index=False)"
   ]
  },
  {
   "cell_type": "code",
   "execution_count": 6,
   "id": "ef7ade8c-8de0-4532-837d-869e76f42a52",
   "metadata": {},
   "outputs": [],
   "source": [
    "validation_df = pd.read_csv('/root/data/OIDv4_ToolKit/OID/csv_folder/validation-annotations-bbox.csv')\n",
    "validation_df = validation_df.replace(replace_map)\n",
    "validation_df.to_csv('/root/data/OIDv4_ToolKit/OID/csv_folder/validation-annotations-bbox1.csv', header=True, index=False)"
   ]
  },
  {
   "cell_type": "code",
   "execution_count": 7,
   "id": "b517c075-9637-4f60-9116-90b03589e9b6",
   "metadata": {},
   "outputs": [],
   "source": [
    "test_df = pd.read_csv('/root/data/OIDv4_ToolKit/OID/csv_folder/test-annotations-bbox.csv')\n",
    "test_df = test_df.replace(replace_map)\n",
    "test_df.to_csv('/root/data/OIDv4_ToolKit/OID/csv_folder/test-annotations-bbox1.csv', header=True, index=False)"
   ]
  },
  {
   "cell_type": "code",
   "execution_count": null,
   "id": "6f1dc481-441b-4809-9ea0-7c1ef3c1d4e7",
   "metadata": {},
   "outputs": [],
   "source": []
  },
  {
   "cell_type": "code",
   "execution_count": null,
   "id": "140f849f-1e64-42e8-b7a5-56563aeae2db",
   "metadata": {},
   "outputs": [],
   "source": []
  },
  {
   "cell_type": "code",
   "execution_count": 13,
   "id": "500660f1-9a25-42b0-a7c9-7500ce93ad59",
   "metadata": {},
   "outputs": [],
   "source": [
    "class_description = pd.read_csv('/root/data/OIDv4_ToolKit/OID/csv_folder/class-descriptions-boxable.csv', header=None)"
   ]
  },
  {
   "cell_type": "code",
   "execution_count": 14,
   "id": "88ec0cca-eccc-4943-bd1b-3868be40f20e",
   "metadata": {},
   "outputs": [
    {
     "data": {
      "text/html": [
       "<div>\n",
       "<style scoped>\n",
       "    .dataframe tbody tr th:only-of-type {\n",
       "        vertical-align: middle;\n",
       "    }\n",
       "\n",
       "    .dataframe tbody tr th {\n",
       "        vertical-align: top;\n",
       "    }\n",
       "\n",
       "    .dataframe thead th {\n",
       "        text-align: right;\n",
       "    }\n",
       "</style>\n",
       "<table border=\"1\" class=\"dataframe\">\n",
       "  <thead>\n",
       "    <tr style=\"text-align: right;\">\n",
       "      <th></th>\n",
       "      <th>0</th>\n",
       "      <th>1</th>\n",
       "    </tr>\n",
       "  </thead>\n",
       "  <tbody>\n",
       "    <tr>\n",
       "      <th>596</th>\n",
       "      <td>/m/0qmmr</td>\n",
       "      <td>Wheelchair</td>\n",
       "    </tr>\n",
       "    <tr>\n",
       "      <th>597</th>\n",
       "      <td>/m/0wdt60w</td>\n",
       "      <td>Rugby ball</td>\n",
       "    </tr>\n",
       "    <tr>\n",
       "      <th>598</th>\n",
       "      <td>/m/0xfy</td>\n",
       "      <td>Armadillo</td>\n",
       "    </tr>\n",
       "    <tr>\n",
       "      <th>599</th>\n",
       "      <td>/m/0xzly</td>\n",
       "      <td>Maracas</td>\n",
       "    </tr>\n",
       "    <tr>\n",
       "      <th>600</th>\n",
       "      <td>/m/0zvk5</td>\n",
       "      <td>Helmet</td>\n",
       "    </tr>\n",
       "  </tbody>\n",
       "</table>\n",
       "</div>"
      ],
      "text/plain": [
       "              0           1\n",
       "596    /m/0qmmr  Wheelchair\n",
       "597  /m/0wdt60w  Rugby ball\n",
       "598     /m/0xfy   Armadillo\n",
       "599    /m/0xzly     Maracas\n",
       "600    /m/0zvk5      Helmet"
      ]
     },
     "execution_count": 14,
     "metadata": {},
     "output_type": "execute_result"
    }
   ],
   "source": [
    "class_description.tail()"
   ]
  },
  {
   "cell_type": "code",
   "execution_count": 15,
   "id": "1e62a36a-99f6-4c9b-928e-4b5846a1752e",
   "metadata": {},
   "outputs": [],
   "source": [
    "class_description.loc[601] = ['/m/1q2w3e', 'Helmet OK']"
   ]
  },
  {
   "cell_type": "code",
   "execution_count": 16,
   "id": "e328ae7a-795d-4253-9a56-d4a62a51f7b0",
   "metadata": {},
   "outputs": [],
   "source": [
    "class_description.loc[602] = ['/m/4r5t6y', 'Hat NO']"
   ]
  },
  {
   "cell_type": "code",
   "execution_count": 17,
   "id": "800ef88f-7a28-460c-b729-f0e3c67edf45",
   "metadata": {},
   "outputs": [],
   "source": [
    "class_description.loc[603] = ['/m/7u8i9o', 'Head NO']"
   ]
  },
  {
   "cell_type": "code",
   "execution_count": 18,
   "id": "29b70a67-24ac-48cc-a570-d7b6b5c84524",
   "metadata": {},
   "outputs": [
    {
     "data": {
      "text/html": [
       "<div>\n",
       "<style scoped>\n",
       "    .dataframe tbody tr th:only-of-type {\n",
       "        vertical-align: middle;\n",
       "    }\n",
       "\n",
       "    .dataframe tbody tr th {\n",
       "        vertical-align: top;\n",
       "    }\n",
       "\n",
       "    .dataframe thead th {\n",
       "        text-align: right;\n",
       "    }\n",
       "</style>\n",
       "<table border=\"1\" class=\"dataframe\">\n",
       "  <thead>\n",
       "    <tr style=\"text-align: right;\">\n",
       "      <th></th>\n",
       "      <th>0</th>\n",
       "      <th>1</th>\n",
       "    </tr>\n",
       "  </thead>\n",
       "  <tbody>\n",
       "    <tr>\n",
       "      <th>599</th>\n",
       "      <td>/m/0xzly</td>\n",
       "      <td>Maracas</td>\n",
       "    </tr>\n",
       "    <tr>\n",
       "      <th>600</th>\n",
       "      <td>/m/0zvk5</td>\n",
       "      <td>Helmet</td>\n",
       "    </tr>\n",
       "    <tr>\n",
       "      <th>601</th>\n",
       "      <td>/m/1q2w3e</td>\n",
       "      <td>Helmet OK</td>\n",
       "    </tr>\n",
       "    <tr>\n",
       "      <th>602</th>\n",
       "      <td>/m/4r5t6y</td>\n",
       "      <td>Hat NO</td>\n",
       "    </tr>\n",
       "    <tr>\n",
       "      <th>603</th>\n",
       "      <td>/m/7u8i9o</td>\n",
       "      <td>Head NO</td>\n",
       "    </tr>\n",
       "  </tbody>\n",
       "</table>\n",
       "</div>"
      ],
      "text/plain": [
       "             0          1\n",
       "599   /m/0xzly    Maracas\n",
       "600   /m/0zvk5     Helmet\n",
       "601  /m/1q2w3e  Helmet OK\n",
       "602  /m/4r5t6y     Hat NO\n",
       "603  /m/7u8i9o    Head NO"
      ]
     },
     "execution_count": 18,
     "metadata": {},
     "output_type": "execute_result"
    }
   ],
   "source": [
    "class_description.tail()"
   ]
  },
  {
   "cell_type": "code",
   "execution_count": 19,
   "id": "5128d6aa-4105-403b-b406-e18206503537",
   "metadata": {},
   "outputs": [],
   "source": [
    "class_description.to_csv('/root/data/OIDv4_ToolKit/OID/csv_folder/class-descriptions-boxable1.csv', header=False, index=False)"
   ]
  },
  {
   "cell_type": "markdown",
   "id": "3f183f56-405c-427b-ad82-bdae2871acc6",
   "metadata": {},
   "source": [
    "# Make tfrecord"
   ]
  },
  {
   "cell_type": "code",
   "execution_count": 8,
   "id": "4754bc88-a6ed-4922-8978-d686b5948fad",
   "metadata": {},
   "outputs": [
    {
     "name": "stdout",
     "output_type": "stream",
     "text": [
      "2021-12-12 12:48:13.725186: I tensorflow/stream_executor/cuda/cuda_gpu_executor.cc:939] successful NUMA node read from SysFS had negative value (-1), but there must be at least one NUMA node, so returning NUMA node zero\n",
      "2021-12-12 12:48:13.733135: W tensorflow/stream_executor/platform/default/dso_loader.cc:64] Could not load dynamic library 'libcusolver.so.11'; dlerror: libcusolver.so.11: cannot open shared object file: No such file or directory\n",
      "2021-12-12 12:48:13.734331: W tensorflow/core/common_runtime/gpu/gpu_device.cc:1850] Cannot dlopen some GPU libraries. Please make sure the missing libraries mentioned above are installed properly if you would like to use GPU. Follow the guide at https://www.tensorflow.org/install/gpu for how to download and setup the required libraries for your platform.\n",
      "Skipping registering GPU devices...\n",
      "Classes: {'Bicycle helmet': 1, 'Hat': 2, 'Helmet': 3, 'Human head': 4}\n",
      "개수 : 30655 images\n",
      "100%|████████████████████████████████████| 30655/30655 [01:24<00:00, 363.95it/s]\n",
      " done\n"
     ]
    }
   ],
   "source": [
    "!python /root/OIDv4_ToolKit/generate-tfrecord.py \\\n",
    "    --classes_file=/root/OIDv4_ToolKit/classes.txt \\\n",
    "    --class_descriptions_file=/root/OIDv4_ToolKit/OID/csv_folder/class-descriptions-boxable.csv \\\n",
    "    --annotations_file=/root/OIDv4_ToolKit/OID/csv_folder/train-annotations-bbox.csv \\\n",
    "    --images_dir=/root/OIDv4_ToolKit/OID/Dataset/train \\\n",
    "    --output_file=/root/OIDv4_ToolKit/train/train/helmet.tfrecord"
   ]
  },
  {
   "cell_type": "code",
   "execution_count": 9,
   "id": "cc6af056-4d87-4ac2-a1ab-d1b825d0fa1b",
   "metadata": {},
   "outputs": [
    {
     "name": "stdout",
     "output_type": "stream",
     "text": [
      "2021-12-12 12:50:02.198563: I tensorflow/stream_executor/cuda/cuda_gpu_executor.cc:939] successful NUMA node read from SysFS had negative value (-1), but there must be at least one NUMA node, so returning NUMA node zero\n",
      "2021-12-12 12:50:02.206648: W tensorflow/stream_executor/platform/default/dso_loader.cc:64] Could not load dynamic library 'libcusolver.so.11'; dlerror: libcusolver.so.11: cannot open shared object file: No such file or directory\n",
      "2021-12-12 12:50:02.207845: W tensorflow/core/common_runtime/gpu/gpu_device.cc:1850] Cannot dlopen some GPU libraries. Please make sure the missing libraries mentioned above are installed properly if you would like to use GPU. Follow the guide at https://www.tensorflow.org/install/gpu for how to download and setup the required libraries for your platform.\n",
      "Skipping registering GPU devices...\n",
      "Classes: {'Bicycle helmet': 1, 'Hat': 2, 'Helmet': 3, 'Human head': 4}\n",
      "개수 : 3530 images\n",
      "100%|██████████████████████████████████████| 3530/3530 [00:08<00:00, 427.71it/s]\n",
      " done\n"
     ]
    }
   ],
   "source": [
    "!python /root/OIDv4_ToolKit/generate-tfrecord.py \\\n",
    "    --classes_file=/root/OIDv4_ToolKit/classes.txt \\\n",
    "    --class_descriptions_file=/root/OIDv4_ToolKit/OID/csv_folder/class-descriptions-boxable.csv \\\n",
    "    --annotations_file=/root/OIDv4_ToolKit/OID/csv_folder/validation-annotations-bbox.csv \\\n",
    "    --images_dir=/root/OIDv4_ToolKit/OID/Dataset/validation \\\n",
    "    --output_file=/root/OIDv4_ToolKit/train/validation/helmet.tfrecord"
   ]
  },
  {
   "cell_type": "code",
   "execution_count": 10,
   "id": "8b17cb5e-ddbc-4651-9076-af6b6c0aa668",
   "metadata": {},
   "outputs": [
    {
     "name": "stdout",
     "output_type": "stream",
     "text": [
      "2021-12-12 12:50:15.194750: I tensorflow/stream_executor/cuda/cuda_gpu_executor.cc:939] successful NUMA node read from SysFS had negative value (-1), but there must be at least one NUMA node, so returning NUMA node zero\n",
      "2021-12-12 12:50:15.202246: W tensorflow/stream_executor/platform/default/dso_loader.cc:64] Could not load dynamic library 'libcusolver.so.11'; dlerror: libcusolver.so.11: cannot open shared object file: No such file or directory\n",
      "2021-12-12 12:50:15.203444: W tensorflow/core/common_runtime/gpu/gpu_device.cc:1850] Cannot dlopen some GPU libraries. Please make sure the missing libraries mentioned above are installed properly if you would like to use GPU. Follow the guide at https://www.tensorflow.org/install/gpu for how to download and setup the required libraries for your platform.\n",
      "Skipping registering GPU devices...\n",
      "Classes: {'Bicycle helmet': 1, 'Hat': 2, 'Helmet': 3, 'Human head': 4}\n",
      "개수 : 10652 images\n",
      "100%|████████████████████████████████████| 10652/10652 [00:24<00:00, 427.43it/s]\n",
      " done\n"
     ]
    }
   ],
   "source": [
    "!python /root/OIDv4_ToolKit/generate-tfrecord.py \\\n",
    "    --classes_file=/root/OIDv4_ToolKit/classes.txt \\\n",
    "    --class_descriptions_file=/root/OIDv4_ToolKit/OID/csv_folder/class-descriptions-boxable.csv \\\n",
    "    --annotations_file=/root/OIDv4_ToolKit/OID/csv_folder/test-annotations-bbox.csv \\\n",
    "    --images_dir=/root/OIDv4_ToolKit/OID/Dataset/test \\\n",
    "    --output_file=/root/OIDv4_ToolKit/train/test/helmet.tfrecord"
   ]
  },
  {
   "cell_type": "code",
   "execution_count": 1,
   "id": "3b0bc7f3-8f2e-447d-b194-538c29c31fc2",
   "metadata": {},
   "outputs": [],
   "source": [
    "classes = list(filter(None, open('/root/OIDv4_ToolKit/classes.txt').read().split('\\n')))\n",
    "classes = {name: idx + 1 for idx, name in enumerate(classes)}"
   ]
  },
  {
   "cell_type": "code",
   "execution_count": 2,
   "id": "e3ccbf00-7f08-45c0-848e-02b04c8f0506",
   "metadata": {},
   "outputs": [
    {
     "data": {
      "text/plain": [
       "{'Bicycle helmet': 1, 'Hat': 2, 'Helmet': 3, 'Human head': 4}"
      ]
     },
     "execution_count": 2,
     "metadata": {},
     "output_type": "execute_result"
    }
   ],
   "source": [
    "classes"
   ]
  },
  {
   "cell_type": "code",
   "execution_count": 3,
   "id": "fb7d04bd-996a-4132-9c70-c535c1c52f0c",
   "metadata": {},
   "outputs": [
    {
     "data": {
      "text/plain": [
       "'/root/OIDv4_ToolKit'"
      ]
     },
     "execution_count": 3,
     "metadata": {},
     "output_type": "execute_result"
    }
   ],
   "source": [
    "pwd"
   ]
  },
  {
   "cell_type": "code",
   "execution_count": 4,
   "id": "c366f6b6-59bb-4486-9e3a-cebe085c6511",
   "metadata": {},
   "outputs": [],
   "source": [
    "!git clone --quiet https://github.com/tensorflow/models.git"
   ]
  },
  {
   "cell_type": "code",
   "execution_count": null,
   "id": "96463702-0323-44b4-904b-6a63c46bc0c1",
   "metadata": {},
   "outputs": [],
   "source": [
    "!python /root/OIDv4_ToolKit/models/research/object_detection/dataset_tools/create_oid_tf_record.py \\\n",
    "    --input_box_annotations_csv=/root/OIDv4_ToolKit/OID/csv_folder/train-annotations-bbox.csv \\\n",
    "    --input_images_directory=/root/OIDv4_ToolKit/OID/Dataset/train \\\n",
    "    --input_image_label_annotations_csv=/root/OIDv4_ToolKit/OID/csv_folder/train-annotations-bbox.csv \\\n",
    "    --input_label_map=classes \\\n",
    "    --output_tf_record_path_prefix=/root/OIDv4_ToolKit/tfrecord/train/helmet.tfrecord"
   ]
  },
  {
   "cell_type": "code",
   "execution_count": null,
   "id": "45e1369f-f315-41cc-94ef-d44357e8ea83",
   "metadata": {},
   "outputs": [],
   "source": [
    "tf.flags.DEFINE_string('input_box_annotations_csv', None,\n",
    "                       'Path to CSV containing image bounding box annotations')\n",
    "tf.flags.DEFINE_string('input_images_directory', None,\n",
    "                       'Directory containing the image pixels '\n",
    "                       'downloaded from the OpenImages GitHub repository.')\n",
    "tf.flags.DEFINE_string('input_image_label_annotations_csv', None,\n",
    "                       'Path to CSV containing image-level labels annotations')\n",
    "tf.flags.DEFINE_string('input_label_map', None, 'Path to the label map proto')\n",
    "tf.flags.DEFINE_string(\n",
    "    'output_tf_record_path_prefix', None,\n",
    "    'Path to the output TFRecord. The shard index and the number of shards '\n",
    "    'will be appended for each output shard.')\n",
    "tf.flags.DEFINE_integer('num_shards', 100, 'Number of TFRecord shards')"
   ]
  }
 ],
 "metadata": {
  "kernelspec": {
   "display_name": "jun_env",
   "language": "python",
   "name": "jun_env"
  },
  "language_info": {
   "codemirror_mode": {
    "name": "ipython",
    "version": 3
   },
   "file_extension": ".py",
   "mimetype": "text/x-python",
   "name": "python",
   "nbconvert_exporter": "python",
   "pygments_lexer": "ipython3",
   "version": "3.7.0"
  }
 },
 "nbformat": 4,
 "nbformat_minor": 5
}
