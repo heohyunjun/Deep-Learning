{
 "cells": [
  {
   "cell_type": "code",
   "execution_count": 1,
   "id": "1c672946-9064-41ba-afe8-af9d3706620a",
   "metadata": {},
   "outputs": [
    {
     "name": "stderr",
     "output_type": "stream",
     "text": [
      "2021-12-07 11:19:04.426332: I tensorflow/stream_executor/platform/default/dso_loader.cc:48] Successfully opened dynamic library libcudart.so.10.1\n"
     ]
    }
   ],
   "source": [
    "# import the necessary packages\n",
    "from tensorflow.keras.preprocessing.image import ImageDataGenerator\n",
    "from tensorflow.keras.applications import MobileNetV2\n",
    "from tensorflow.keras.layers import AveragePooling2D, Dropout, Flatten, Dense, Input\n",
    "from tensorflow.keras.applications.mobilenet_v2 import preprocess_input\n",
    "from tensorflow.keras.preprocessing.image import img_to_array, load_img\n",
    "from tensorflow.keras.utils import to_categorical\n",
    "from sklearn.preprocessing import LabelBinarizer\n",
    "from sklearn.model_selection import train_test_split\n",
    "from sklearn.metrics import classification_report\n",
    "# from imutils import paths\n",
    "import matplotlib.pyplot as plt\n",
    "%matplotlib inline\n",
    "from tqdm import tqdm\n",
    "import numpy as np\n",
    "import argparse\n",
    "import tensorflow as tf\n",
    "import os\n",
    "from tensorflow.keras.callbacks import ModelCheckpoint\n",
    "from glob import glob\n",
    "from sklearn.model_selection import train_test_split\n",
    "from sklearn.preprocessing import OneHotEncoder\n",
    "# tf.compat.v1.disable_eager_execution()\n",
    "# tf.executing_eagerly()"
   ]
  },
  {
   "cell_type": "code",
   "execution_count": 3,
   "id": "1794d3f7-6e27-4edc-8f20-ba09fd2e91f9",
   "metadata": {
    "collapsed": true,
    "jupyter": {
     "outputs_hidden": true
    },
    "tags": []
   },
   "outputs": [
    {
     "name": "stderr",
     "output_type": "stream",
     "text": [
      "2021-12-07 11:19:08.115594: I tensorflow/stream_executor/cuda/cuda_gpu_executor.cc:982] successful NUMA node read from SysFS had negative value (-1), but there must be at least one NUMA node, so returning NUMA node zero\n"
     ]
    },
    {
     "data": {
      "text/plain": [
       "[name: \"/device:CPU:0\"\n",
       " device_type: \"CPU\"\n",
       " memory_limit: 268435456\n",
       " locality {\n",
       " }\n",
       " incarnation: 13582825062510804775,\n",
       " name: \"/device:XLA_CPU:0\"\n",
       " device_type: \"XLA_CPU\"\n",
       " memory_limit: 17179869184\n",
       " locality {\n",
       " }\n",
       " incarnation: 5883742379891122453\n",
       " physical_device_desc: \"device: XLA_CPU device\",\n",
       " name: \"/device:XLA_GPU:0\"\n",
       " device_type: \"XLA_GPU\"\n",
       " memory_limit: 17179869184\n",
       " locality {\n",
       " }\n",
       " incarnation: 17021648895010584228\n",
       " physical_device_desc: \"device: XLA_GPU device\",\n",
       " name: \"/device:XLA_GPU:1\"\n",
       " device_type: \"XLA_GPU\"\n",
       " memory_limit: 17179869184\n",
       " locality {\n",
       " }\n",
       " incarnation: 14794695863118548555\n",
       " physical_device_desc: \"device: XLA_GPU device\",\n",
       " name: \"/device:GPU:0\"\n",
       " device_type: \"GPU\"\n",
       " memory_limit: 7772802912\n",
       " locality {\n",
       "   bus_id: 1\n",
       "   links {\n",
       "     link {\n",
       "       device_id: 1\n",
       "       type: \"StreamExecutor\"\n",
       "       strength: 1\n",
       "     }\n",
       "   }\n",
       " }\n",
       " incarnation: 16863566960454837254\n",
       " physical_device_desc: \"device: 0, name: NVIDIA GeForce GTX 1080, pci bus id: 0000:0a:00.0, compute capability: 6.1\",\n",
       " name: \"/device:GPU:1\"\n",
       " device_type: \"GPU\"\n",
       " memory_limit: 7782536320\n",
       " locality {\n",
       "   bus_id: 1\n",
       "   links {\n",
       "     link {\n",
       "       type: \"StreamExecutor\"\n",
       "       strength: 1\n",
       "     }\n",
       "   }\n",
       " }\n",
       " incarnation: 18084592981958457199\n",
       " physical_device_desc: \"device: 1, name: NVIDIA GeForce GTX 1080, pci bus id: 0000:0b:00.0, compute capability: 6.1\"]"
      ]
     },
     "execution_count": 3,
     "metadata": {},
     "output_type": "execute_result"
    },
    {
     "name": "stderr",
     "output_type": "stream",
     "text": [
      "2021-12-07 11:19:08.116607: I tensorflow/core/common_runtime/gpu/gpu_device.cc:1716] Found device 0 with properties: \n",
      "pciBusID: 0000:0a:00.0 name: NVIDIA GeForce GTX 1080 computeCapability: 6.1\n",
      "coreClock: 1.759GHz coreCount: 20 deviceMemorySize: 7.93GiB deviceMemoryBandwidth: 298.32GiB/s\n",
      "2021-12-07 11:19:08.116743: I tensorflow/stream_executor/cuda/cuda_gpu_executor.cc:982] successful NUMA node read from SysFS had negative value (-1), but there must be at least one NUMA node, so returning NUMA node zero\n",
      "2021-12-07 11:19:08.117666: I tensorflow/core/common_runtime/gpu/gpu_device.cc:1716] Found device 1 with properties: \n",
      "pciBusID: 0000:0b:00.0 name: NVIDIA GeForce GTX 1080 computeCapability: 6.1\n",
      "coreClock: 1.759GHz coreCount: 20 deviceMemorySize: 7.93GiB deviceMemoryBandwidth: 298.32GiB/s\n",
      "2021-12-07 11:19:08.117707: I tensorflow/stream_executor/platform/default/dso_loader.cc:48] Successfully opened dynamic library libcudart.so.10.1\n",
      "2021-12-07 11:19:08.117745: I tensorflow/stream_executor/platform/default/dso_loader.cc:48] Successfully opened dynamic library libcublas.so.10\n",
      "2021-12-07 11:19:08.117771: I tensorflow/stream_executor/platform/default/dso_loader.cc:48] Successfully opened dynamic library libcufft.so.10\n",
      "2021-12-07 11:19:08.117795: I tensorflow/stream_executor/platform/default/dso_loader.cc:48] Successfully opened dynamic library libcurand.so.10\n",
      "2021-12-07 11:19:08.117818: I tensorflow/stream_executor/platform/default/dso_loader.cc:48] Successfully opened dynamic library libcusolver.so.10\n",
      "2021-12-07 11:19:08.117841: I tensorflow/stream_executor/platform/default/dso_loader.cc:48] Successfully opened dynamic library libcusparse.so.10\n",
      "2021-12-07 11:19:08.117865: I tensorflow/stream_executor/platform/default/dso_loader.cc:48] Successfully opened dynamic library libcudnn.so.7\n",
      "2021-12-07 11:19:08.117979: I tensorflow/stream_executor/cuda/cuda_gpu_executor.cc:982] successful NUMA node read from SysFS had negative value (-1), but there must be at least one NUMA node, so returning NUMA node zero\n",
      "2021-12-07 11:19:08.119080: I tensorflow/stream_executor/cuda/cuda_gpu_executor.cc:982] successful NUMA node read from SysFS had negative value (-1), but there must be at least one NUMA node, so returning NUMA node zero\n",
      "2021-12-07 11:19:08.120127: I tensorflow/stream_executor/cuda/cuda_gpu_executor.cc:982] successful NUMA node read from SysFS had negative value (-1), but there must be at least one NUMA node, so returning NUMA node zero\n",
      "2021-12-07 11:19:08.121139: I tensorflow/stream_executor/cuda/cuda_gpu_executor.cc:982] successful NUMA node read from SysFS had negative value (-1), but there must be at least one NUMA node, so returning NUMA node zero\n",
      "2021-12-07 11:19:08.122045: I tensorflow/core/common_runtime/gpu/gpu_device.cc:1858] Adding visible gpu devices: 0, 1\n",
      "2021-12-07 11:19:08.122094: I tensorflow/core/common_runtime/gpu/gpu_device.cc:1257] Device interconnect StreamExecutor with strength 1 edge matrix:\n",
      "2021-12-07 11:19:08.122105: I tensorflow/core/common_runtime/gpu/gpu_device.cc:1263]      0 1 \n",
      "2021-12-07 11:19:08.122114: I tensorflow/core/common_runtime/gpu/gpu_device.cc:1276] 0:   N Y \n",
      "2021-12-07 11:19:08.122122: I tensorflow/core/common_runtime/gpu/gpu_device.cc:1276] 1:   Y N \n",
      "2021-12-07 11:19:08.122337: I tensorflow/stream_executor/cuda/cuda_gpu_executor.cc:982] successful NUMA node read from SysFS had negative value (-1), but there must be at least one NUMA node, so returning NUMA node zero\n",
      "2021-12-07 11:19:08.123365: I tensorflow/stream_executor/cuda/cuda_gpu_executor.cc:982] successful NUMA node read from SysFS had negative value (-1), but there must be at least one NUMA node, so returning NUMA node zero\n",
      "2021-12-07 11:19:08.124395: I tensorflow/stream_executor/cuda/cuda_gpu_executor.cc:982] successful NUMA node read from SysFS had negative value (-1), but there must be at least one NUMA node, so returning NUMA node zero\n",
      "2021-12-07 11:19:08.125356: I tensorflow/core/common_runtime/gpu/gpu_device.cc:1402] Created TensorFlow device (/device:GPU:0 with 7412 MB memory) -> physical GPU (device: 0, name: NVIDIA GeForce GTX 1080, pci bus id: 0000:0a:00.0, compute capability: 6.1)\n",
      "2021-12-07 11:19:08.125511: I tensorflow/stream_executor/cuda/cuda_gpu_executor.cc:982] successful NUMA node read from SysFS had negative value (-1), but there must be at least one NUMA node, so returning NUMA node zero\n",
      "2021-12-07 11:19:08.126492: I tensorflow/core/common_runtime/gpu/gpu_device.cc:1402] Created TensorFlow device (/device:GPU:1 with 7422 MB memory) -> physical GPU (device: 1, name: NVIDIA GeForce GTX 1080, pci bus id: 0000:0b:00.0, compute capability: 6.1)\n"
     ]
    }
   ],
   "source": [
    "from tensorflow.python.client import device_lib\n",
    "device_lib.list_local_devices()"
   ]
  },
  {
   "cell_type": "code",
   "execution_count": 4,
   "id": "d42fe40c-ca11-49b2-9fa8-7dd684580f86",
   "metadata": {
    "collapsed": true,
    "jupyter": {
     "outputs_hidden": true
    },
    "tags": []
   },
   "outputs": [
    {
     "name": "stdout",
     "output_type": "stream",
     "text": [
      "WARNING:tensorflow:From /tmp/ipykernel_126410/962645848.py:7: is_gpu_available (from tensorflow.python.framework.test_util) is deprecated and will be removed in a future version.\n",
      "Instructions for updating:\n",
      "Use `tf.config.list_physical_devices('GPU')` instead.\n",
      "GPU Available:  True\n",
      "GPU is available\n"
     ]
    },
    {
     "name": "stderr",
     "output_type": "stream",
     "text": [
      "2021-12-07 11:19:12.722530: I tensorflow/stream_executor/cuda/cuda_gpu_executor.cc:982] successful NUMA node read from SysFS had negative value (-1), but there must be at least one NUMA node, so returning NUMA node zero\n",
      "2021-12-07 11:19:12.723620: I tensorflow/core/common_runtime/gpu/gpu_device.cc:1716] Found device 0 with properties: \n",
      "pciBusID: 0000:0a:00.0 name: NVIDIA GeForce GTX 1080 computeCapability: 6.1\n",
      "coreClock: 1.759GHz coreCount: 20 deviceMemorySize: 7.93GiB deviceMemoryBandwidth: 298.32GiB/s\n",
      "2021-12-07 11:19:12.723772: I tensorflow/stream_executor/cuda/cuda_gpu_executor.cc:982] successful NUMA node read from SysFS had negative value (-1), but there must be at least one NUMA node, so returning NUMA node zero\n",
      "2021-12-07 11:19:12.724745: I tensorflow/core/common_runtime/gpu/gpu_device.cc:1716] Found device 1 with properties: \n",
      "pciBusID: 0000:0b:00.0 name: NVIDIA GeForce GTX 1080 computeCapability: 6.1\n",
      "coreClock: 1.759GHz coreCount: 20 deviceMemorySize: 7.93GiB deviceMemoryBandwidth: 298.32GiB/s\n",
      "2021-12-07 11:19:12.724790: I tensorflow/stream_executor/platform/default/dso_loader.cc:48] Successfully opened dynamic library libcudart.so.10.1\n",
      "2021-12-07 11:19:12.724827: I tensorflow/stream_executor/platform/default/dso_loader.cc:48] Successfully opened dynamic library libcublas.so.10\n",
      "2021-12-07 11:19:12.724851: I tensorflow/stream_executor/platform/default/dso_loader.cc:48] Successfully opened dynamic library libcufft.so.10\n",
      "2021-12-07 11:19:12.724873: I tensorflow/stream_executor/platform/default/dso_loader.cc:48] Successfully opened dynamic library libcurand.so.10\n",
      "2021-12-07 11:19:12.724894: I tensorflow/stream_executor/platform/default/dso_loader.cc:48] Successfully opened dynamic library libcusolver.so.10\n",
      "2021-12-07 11:19:12.724916: I tensorflow/stream_executor/platform/default/dso_loader.cc:48] Successfully opened dynamic library libcusparse.so.10\n",
      "2021-12-07 11:19:12.724938: I tensorflow/stream_executor/platform/default/dso_loader.cc:48] Successfully opened dynamic library libcudnn.so.7\n",
      "2021-12-07 11:19:12.725061: I tensorflow/stream_executor/cuda/cuda_gpu_executor.cc:982] successful NUMA node read from SysFS had negative value (-1), but there must be at least one NUMA node, so returning NUMA node zero\n",
      "2021-12-07 11:19:12.726151: I tensorflow/stream_executor/cuda/cuda_gpu_executor.cc:982] successful NUMA node read from SysFS had negative value (-1), but there must be at least one NUMA node, so returning NUMA node zero\n",
      "2021-12-07 11:19:12.727226: I tensorflow/stream_executor/cuda/cuda_gpu_executor.cc:982] successful NUMA node read from SysFS had negative value (-1), but there must be at least one NUMA node, so returning NUMA node zero\n",
      "2021-12-07 11:19:12.728295: I tensorflow/stream_executor/cuda/cuda_gpu_executor.cc:982] successful NUMA node read from SysFS had negative value (-1), but there must be at least one NUMA node, so returning NUMA node zero\n",
      "2021-12-07 11:19:12.729256: I tensorflow/core/common_runtime/gpu/gpu_device.cc:1858] Adding visible gpu devices: 0, 1\n",
      "2021-12-07 11:19:12.729315: I tensorflow/core/common_runtime/gpu/gpu_device.cc:1257] Device interconnect StreamExecutor with strength 1 edge matrix:\n",
      "2021-12-07 11:19:12.729327: I tensorflow/core/common_runtime/gpu/gpu_device.cc:1263]      0 1 \n",
      "2021-12-07 11:19:12.729337: I tensorflow/core/common_runtime/gpu/gpu_device.cc:1276] 0:   N Y \n",
      "2021-12-07 11:19:12.729345: I tensorflow/core/common_runtime/gpu/gpu_device.cc:1276] 1:   Y N \n",
      "2021-12-07 11:19:12.729541: I tensorflow/stream_executor/cuda/cuda_gpu_executor.cc:982] successful NUMA node read from SysFS had negative value (-1), but there must be at least one NUMA node, so returning NUMA node zero\n",
      "2021-12-07 11:19:12.730661: I tensorflow/stream_executor/cuda/cuda_gpu_executor.cc:982] successful NUMA node read from SysFS had negative value (-1), but there must be at least one NUMA node, so returning NUMA node zero\n",
      "2021-12-07 11:19:12.731541: I tensorflow/stream_executor/cuda/cuda_gpu_executor.cc:982] successful NUMA node read from SysFS had negative value (-1), but there must be at least one NUMA node, so returning NUMA node zero\n",
      "2021-12-07 11:19:12.731963: I tensorflow/core/common_runtime/gpu/gpu_device.cc:1402] Created TensorFlow device (/device:GPU:0 with 7412 MB memory) -> physical GPU (device: 0, name: NVIDIA GeForce GTX 1080, pci bus id: 0000:0a:00.0, compute capability: 6.1)\n",
      "2021-12-07 11:19:12.732021: I tensorflow/stream_executor/cuda/cuda_gpu_executor.cc:982] successful NUMA node read from SysFS had negative value (-1), but there must be at least one NUMA node, so returning NUMA node zero\n",
      "2021-12-07 11:19:12.732439: I tensorflow/core/common_runtime/gpu/gpu_device.cc:1402] Created TensorFlow device (/device:GPU:1 with 7422 MB memory) -> physical GPU (device: 1, name: NVIDIA GeForce GTX 1080, pci bus id: 0000:0b:00.0, compute capability: 6.1)\n",
      "2021-12-07 11:19:12.732942: I tensorflow/stream_executor/cuda/cuda_gpu_executor.cc:982] successful NUMA node read from SysFS had negative value (-1), but there must be at least one NUMA node, so returning NUMA node zero\n",
      "2021-12-07 11:19:12.733366: I tensorflow/core/common_runtime/gpu/gpu_device.cc:1716] Found device 0 with properties: \n",
      "pciBusID: 0000:0a:00.0 name: NVIDIA GeForce GTX 1080 computeCapability: 6.1\n",
      "coreClock: 1.759GHz coreCount: 20 deviceMemorySize: 7.93GiB deviceMemoryBandwidth: 298.32GiB/s\n",
      "2021-12-07 11:19:12.733417: I tensorflow/stream_executor/cuda/cuda_gpu_executor.cc:982] successful NUMA node read from SysFS had negative value (-1), but there must be at least one NUMA node, so returning NUMA node zero\n",
      "2021-12-07 11:19:12.733833: I tensorflow/core/common_runtime/gpu/gpu_device.cc:1716] Found device 1 with properties: \n",
      "pciBusID: 0000:0b:00.0 name: NVIDIA GeForce GTX 1080 computeCapability: 6.1\n",
      "coreClock: 1.759GHz coreCount: 20 deviceMemorySize: 7.93GiB deviceMemoryBandwidth: 298.32GiB/s\n",
      "2021-12-07 11:19:12.733846: I tensorflow/stream_executor/platform/default/dso_loader.cc:48] Successfully opened dynamic library libcudart.so.10.1\n",
      "2021-12-07 11:19:12.733857: I tensorflow/stream_executor/platform/default/dso_loader.cc:48] Successfully opened dynamic library libcublas.so.10\n",
      "2021-12-07 11:19:12.733866: I tensorflow/stream_executor/platform/default/dso_loader.cc:48] Successfully opened dynamic library libcufft.so.10\n",
      "2021-12-07 11:19:12.733874: I tensorflow/stream_executor/platform/default/dso_loader.cc:48] Successfully opened dynamic library libcurand.so.10\n",
      "2021-12-07 11:19:12.733882: I tensorflow/stream_executor/platform/default/dso_loader.cc:48] Successfully opened dynamic library libcusolver.so.10\n",
      "2021-12-07 11:19:12.733890: I tensorflow/stream_executor/platform/default/dso_loader.cc:48] Successfully opened dynamic library libcusparse.so.10\n",
      "2021-12-07 11:19:12.733898: I tensorflow/stream_executor/platform/default/dso_loader.cc:48] Successfully opened dynamic library libcudnn.so.7\n",
      "2021-12-07 11:19:12.733943: I tensorflow/stream_executor/cuda/cuda_gpu_executor.cc:982] successful NUMA node read from SysFS had negative value (-1), but there must be at least one NUMA node, so returning NUMA node zero\n",
      "2021-12-07 11:19:12.734402: I tensorflow/stream_executor/cuda/cuda_gpu_executor.cc:982] successful NUMA node read from SysFS had negative value (-1), but there must be at least one NUMA node, so returning NUMA node zero\n",
      "2021-12-07 11:19:12.734864: I tensorflow/stream_executor/cuda/cuda_gpu_executor.cc:982] successful NUMA node read from SysFS had negative value (-1), but there must be at least one NUMA node, so returning NUMA node zero\n",
      "2021-12-07 11:19:12.735317: I tensorflow/stream_executor/cuda/cuda_gpu_executor.cc:982] successful NUMA node read from SysFS had negative value (-1), but there must be at least one NUMA node, so returning NUMA node zero\n",
      "2021-12-07 11:19:12.735729: I tensorflow/core/common_runtime/gpu/gpu_device.cc:1858] Adding visible gpu devices: 0, 1\n"
     ]
    }
   ],
   "source": [
    "from tensorflow.python.client import device_lib\n",
    "# gpus = tf.config.experimental.list_physical_devices('GPU')\n",
    "# # gpus = tf.config.list_physical_devices('GPU')\n",
    "# print('='*100)\n",
    "# print(gpus)\n",
    "# print('='*100)\n",
    "print(\"GPU Available: \", tf.test.is_gpu_available())\n",
    "\n",
    "gpus = tf.config.experimental.list_physical_devices('GPU')\n",
    "if gpus:\n",
    "  print('GPU is available')"
   ]
  },
  {
   "cell_type": "markdown",
   "id": "9470e7b8-4112-4348-beac-dd52435e9f0c",
   "metadata": {},
   "source": [
    "# 이미지 전처리"
   ]
  },
  {
   "cell_type": "code",
   "execution_count": 3,
   "id": "2c43545a-3030-4719-8a38-6ed12fee9199",
   "metadata": {},
   "outputs": [],
   "source": [
    "# train_path\n",
    "train_yes_path = '/root/data/cut_data/train/yes/*.jpg'\n",
    "train_no_path = '/root/data/cut_data/train/no/*.jpg'\n",
    "\n",
    "# test_path\n",
    "test_yes_path = '/root/data/cut_data/test/yes/*.jpg'\n",
    "test_no_path = '/root/data/cut_data/test/no/*.jpg'\n",
    "\n",
    "# val_path\n",
    "val_yes_path ='/root/data/cut_data/validation/yes/*.jpg'\n",
    "val_no_path ='/root/data/cut_data/validation/no/*.jpg'"
   ]
  },
  {
   "cell_type": "code",
   "execution_count": 4,
   "id": "283b32d7-42cd-431a-a72c-3bfd746c97d4",
   "metadata": {},
   "outputs": [
    {
     "name": "stdout",
     "output_type": "stream",
     "text": [
      "train_yes= 40807\n",
      "train_no= 119267\n",
      "==========\n",
      "test_yes= 2033\n",
      "test_no= 25465\n",
      "==========\n",
      "validation_yes= 664\n",
      "validation_no= 8400\n"
     ]
    }
   ],
   "source": [
    "# 이미지 불러오기\n",
    "# trian\n",
    "train_yes = glob(train_yes_path)\n",
    "train_no = glob(train_no_path)\n",
    "\n",
    "# test\n",
    "test_yes = glob(test_yes_path)\n",
    "test_no = glob(test_no_path)\n",
    "\n",
    "# validation\n",
    "val_yes = glob(val_yes_path)\n",
    "val_no = glob(val_no_path)\n",
    "\n",
    "# 출력\n",
    "print(\"train_yes=\", len(train_yes))\n",
    "print(\"train_no=\", len(train_no))\n",
    "print(\"=\"*10)\n",
    "print(\"test_yes=\", len(test_yes))\n",
    "print(\"test_no=\", len(test_no))\n",
    "print(\"=\"*10)\n",
    "print(\"validation_yes=\", len(val_yes))\n",
    "print(\"validation_no=\", len(val_no))"
   ]
  },
  {
   "cell_type": "markdown",
   "id": "0c2d1ac1-33c1-4584-b1c6-fb84a3f241fa",
   "metadata": {},
   "source": [
    "## 이미지 갯수 비율 맞추기"
   ]
  },
  {
   "cell_type": "code",
   "execution_count": 5,
   "id": "284a568b-912b-4128-9d65-dd7997356e88",
   "metadata": {
    "tags": []
   },
   "outputs": [],
   "source": [
    "# 이미지 개수 비율 맞추기\n",
    "def image_ratio(yes, no):\n",
    "    min_num = min(len(yes),len(no))\n",
    "    return yes[0:min_num], no[0:min_num]"
   ]
  },
  {
   "cell_type": "code",
   "execution_count": 6,
   "id": "48d82637-a640-472e-89ce-4245efd11d48",
   "metadata": {
    "tags": []
   },
   "outputs": [
    {
     "name": "stdout",
     "output_type": "stream",
     "text": [
      "train_yes= 40807\n",
      "train_no= 40807\n",
      "==========\n",
      "test_yes= 2033\n",
      "test_no= 2033\n",
      "==========\n",
      "validation_yes= 664\n",
      "validation_no= 664\n"
     ]
    }
   ],
   "source": [
    "# 함수 실행\n",
    "train_yes , train_no = image_ratio(train_yes, train_no)\n",
    "test_yes , test_no = image_ratio(test_yes, test_no)\n",
    "val_yes , val_no = image_ratio(val_yes, val_no)\n",
    "\n",
    "# 출력\n",
    "print(\"train_yes=\", len(train_yes))\n",
    "print(\"train_no=\", len(train_no))\n",
    "print(\"=\"*10)\n",
    "print(\"test_yes=\", len(test_yes))\n",
    "print(\"test_no=\", len(test_no))\n",
    "print(\"=\"*10)\n",
    "print(\"validation_yes=\", len(val_yes))\n",
    "print(\"validation_no=\", len(val_no))"
   ]
  },
  {
   "cell_type": "markdown",
   "id": "e213ae9c-fba6-4698-aa41-cfa8c94a44ae",
   "metadata": {},
   "source": [
    "## img_to_array"
   ]
  },
  {
   "cell_type": "code",
   "execution_count": 7,
   "id": "3ad91861-89ed-411f-8aa8-7e4070adc1c3",
   "metadata": {},
   "outputs": [],
   "source": [
    "data_list = []\n",
    "label_list = []\n",
    "\n",
    "# image 변환 및 라벨 생성\n",
    "def image_preprocessing(path, data_list, label_list, label_num):\n",
    "    label = label_list\n",
    "    data = data_list\n",
    "    for i in tqdm(path):\n",
    "        image=tf.keras.preprocessing.image.load_img(i, color_mode='rgb', \n",
    "        target_size= (128,128)\n",
    "                                             )\n",
    "        image = np.array(image)\n",
    "        data.append(image)\n",
    "        label.append(label_num)\n",
    "        \n",
    "\n",
    "    return  data, label"
   ]
  },
  {
   "cell_type": "code",
   "execution_count": 8,
   "id": "22e320bc-ad6f-43a0-926a-7cbf0699652a",
   "metadata": {
    "tags": []
   },
   "outputs": [
    {
     "name": "stderr",
     "output_type": "stream",
     "text": [
      "100%|███████████████████████████████████████████| 40807/40807 [03:47<00:00, 179.34it/s]\n",
      "100%|█████████████████████████████████████████████| 2033/2033 [00:02<00:00, 734.16it/s]\n",
      "100%|████████████████████████████████████████████| 40807/40807 [09:53<00:00, 68.75it/s]\n",
      "100%|█████████████████████████████████████████████| 2033/2033 [00:17<00:00, 117.28it/s]\n"
     ]
    }
   ],
   "source": [
    "data, label = image_preprocessing(train_yes, data_list, label_list, 1)\n",
    "data, label = image_preprocessing(test_yes, data, label, 1)\n",
    "data, label = image_preprocessing(train_no, data, label, 0)\n",
    "data, label = image_preprocessing(test_no, data, label, 0)\n",
    "\n",
    "data = np.array(data, dtype=np.float32)/255\n",
    "label = np.array(label)"
   ]
  },
  {
   "cell_type": "code",
   "execution_count": 14,
   "id": "b460e478-d094-4ab4-906a-69d2f22a8ac0",
   "metadata": {},
   "outputs": [
    {
     "data": {
      "text/plain": [
       "(85680, 128, 128, 3)"
      ]
     },
     "execution_count": 14,
     "metadata": {},
     "output_type": "execute_result"
    }
   ],
   "source": [
    "data.shape"
   ]
  },
  {
   "cell_type": "code",
   "execution_count": 9,
   "id": "0fc8b985-14a7-469e-a913-744144f8e432",
   "metadata": {},
   "outputs": [
    {
     "name": "stderr",
     "output_type": "stream",
     "text": [
      "100%|███████████████████████████████████████████████| 664/664 [00:01<00:00, 606.53it/s]\n",
      "100%|███████████████████████████████████████████████| 664/664 [00:02<00:00, 278.18it/s]\n"
     ]
    }
   ],
   "source": [
    "# validation set\n",
    "X_val, y_val = image_preprocessing(val_yes, data_list, label_list, 1)\n",
    "X_val, y_val = image_preprocessing(val_no, X_val, y_val, 0)\n",
    "\n",
    "X_val = np.array(X_val, dtype=np.float32)/255\n",
    "y_val = np.array(y_val)\n",
    "y_val = to_categorical(y_val)"
   ]
  },
  {
   "cell_type": "code",
   "execution_count": 17,
   "id": "8c360ef6-f357-46b4-9dd2-a01cb7adb3c3",
   "metadata": {},
   "outputs": [
    {
     "data": {
      "text/plain": [
       "1"
      ]
     },
     "execution_count": 17,
     "metadata": {},
     "output_type": "execute_result"
    }
   ],
   "source": [
    "label_list[0]"
   ]
  },
  {
   "cell_type": "code",
   "execution_count": 13,
   "id": "d0418e48-2b11-4a8e-91fa-581f9dd909c1",
   "metadata": {},
   "outputs": [
    {
     "data": {
      "text/plain": [
       "1"
      ]
     },
     "execution_count": 13,
     "metadata": {},
     "output_type": "execute_result"
    }
   ],
   "source": [
    "label[0]"
   ]
  },
  {
   "cell_type": "code",
   "execution_count": 16,
   "id": "8a789402-efc7-405c-afb6-609e3cdbaa45",
   "metadata": {},
   "outputs": [
    {
     "data": {
      "text/plain": [
       "array([0., 1.], dtype=float32)"
      ]
     },
     "execution_count": 16,
     "metadata": {},
     "output_type": "execute_result"
    }
   ],
   "source": [
    "label[0]"
   ]
  },
  {
   "cell_type": "code",
   "execution_count": null,
   "id": "8bedf394-852a-479d-b6dc-4f17fbe41b1c",
   "metadata": {},
   "outputs": [],
   "source": [
    "print(X_val.shape)\n",
    "print(y_val.shape)"
   ]
  },
  {
   "cell_type": "code",
   "execution_count": null,
   "id": "c044736a-f962-4721-9d31-b9556e5dfe20",
   "metadata": {},
   "outputs": [],
   "source": [
    "# np.save('/root/data/model/mobilenetv2/jun_data.npy', data) # x_save.npy\n",
    "# np.save('/root/data/model/mobilenetv2/jun_label.npy', label) # x_save.npy\n",
    "# np.save('/root/data/model/mobilenetv2/jun_label_val_x.npy', X_val)\n",
    "# np.save('/root/data/model/mobilenetv2/jun_label_val_y.npy', y_val)"
   ]
  },
  {
   "cell_type": "markdown",
   "id": "cb6187de-7ad0-4c63-b6ce-2a472f37568b",
   "metadata": {},
   "source": [
    "# 데이터 로드 -> 학습"
   ]
  },
  {
   "cell_type": "code",
   "execution_count": 3,
   "id": "7adef004-bf17-43b4-82cd-18070e2c29ea",
   "metadata": {},
   "outputs": [],
   "source": [
    "data = np.load('/root/data/model/mobilenetv2/jun_data.npy')\n",
    "label = np.load('/root/data/model/mobilenetv2/jun_label.npy')\n",
    "X_val = np.load('/root/data/model/mobilenetv2/jun_label_val_x.npy')\n",
    "y_val = np.load('/root/data/model/mobilenetv2/jun_label_val_y.npy')"
   ]
  },
  {
   "cell_type": "code",
   "execution_count": 15,
   "id": "2b5f52f7-b2fc-49a7-a19f-dc53b451d534",
   "metadata": {},
   "outputs": [
    {
     "name": "stdout",
     "output_type": "stream",
     "text": [
      "(85680, 2)\n"
     ]
    }
   ],
   "source": [
    "# 인코딩\n",
    "label = to_categorical(label)\n",
    "print(label.shape)"
   ]
  },
  {
   "cell_type": "code",
   "execution_count": 5,
   "id": "15ace8d8-d0c3-4b60-ad91-93bb26221013",
   "metadata": {},
   "outputs": [],
   "source": [
    "# train_test_split\n",
    "X_train, X_test, y_train, y_test = train_test_split(data, label, test_size=0.2,\n",
    "                                                random_state=42)"
   ]
  },
  {
   "cell_type": "code",
   "execution_count": 6,
   "id": "379b708d-5784-4697-8b2d-285e0d3f5480",
   "metadata": {},
   "outputs": [
    {
     "name": "stdout",
     "output_type": "stream",
     "text": [
      "X_train.shape = (68544, 128, 128, 3)\n",
      "X_test.shape = (17136, 128, 128, 3)\n",
      "y_train.shape = (68544, 2)\n",
      "y_train.shape = (17136, 2)\n"
     ]
    }
   ],
   "source": [
    "print(\"X_train.shape =\",X_train.shape)\n",
    "print(\"X_test.shape =\",X_test.shape)\n",
    "print(\"y_train.shape =\",y_train.shape)\n",
    "print(\"y_train.shape =\",y_test.shape)"
   ]
  },
  {
   "cell_type": "code",
   "execution_count": null,
   "id": "442f01fe-aa8e-4e37-a63e-a9cbd03b76e8",
   "metadata": {},
   "outputs": [],
   "source": [
    "# import gc\n",
    "# tf.keras.backend.clear_session()\n",
    "# gc.collect()"
   ]
  },
  {
   "cell_type": "markdown",
   "id": "d5feadd6-d3ec-40c8-9095-5ab80cfe93f5",
   "metadata": {},
   "source": [
    "## 모델 로드 ,컴파일, 학습"
   ]
  },
  {
   "cell_type": "code",
   "execution_count": 7,
   "id": "4bdcc49b-4f16-4b23-b24d-837a705246ec",
   "metadata": {
    "tags": []
   },
   "outputs": [
    {
     "name": "stdout",
     "output_type": "stream",
     "text": [
      "INFO:tensorflow:Using MirroredStrategy with devices ('/job:localhost/replica:0/task:0/device:GPU:0', '/job:localhost/replica:0/task:0/device:GPU:1')\n"
     ]
    },
    {
     "name": "stderr",
     "output_type": "stream",
     "text": [
      "2021-11-26 10:30:50.840167: I tensorflow/core/common_runtime/gpu/gpu_device.cc:1716] Found device 0 with properties: \n",
      "pciBusID: 0000:0a:00.0 name: NVIDIA GeForce GTX 1080 computeCapability: 6.1\n",
      "coreClock: 1.759GHz coreCount: 20 deviceMemorySize: 7.93GiB deviceMemoryBandwidth: 298.32GiB/s\n",
      "2021-11-26 10:30:50.840931: I tensorflow/core/common_runtime/gpu/gpu_device.cc:1716] Found device 1 with properties: \n",
      "pciBusID: 0000:0b:00.0 name: NVIDIA GeForce GTX 1080 computeCapability: 6.1\n",
      "coreClock: 1.759GHz coreCount: 20 deviceMemorySize: 7.93GiB deviceMemoryBandwidth: 298.32GiB/s\n",
      "2021-11-26 10:30:50.840958: I tensorflow/stream_executor/platform/default/dso_loader.cc:48] Successfully opened dynamic library libcudart.so.10.1\n",
      "2021-11-26 10:30:50.840981: I tensorflow/stream_executor/platform/default/dso_loader.cc:48] Successfully opened dynamic library libcublas.so.10\n",
      "2021-11-26 10:30:50.840991: I tensorflow/stream_executor/platform/default/dso_loader.cc:48] Successfully opened dynamic library libcufft.so.10\n",
      "2021-11-26 10:30:50.841000: I tensorflow/stream_executor/platform/default/dso_loader.cc:48] Successfully opened dynamic library libcurand.so.10\n",
      "2021-11-26 10:30:50.841009: I tensorflow/stream_executor/platform/default/dso_loader.cc:48] Successfully opened dynamic library libcusolver.so.10\n",
      "2021-11-26 10:30:50.841017: I tensorflow/stream_executor/platform/default/dso_loader.cc:48] Successfully opened dynamic library libcusparse.so.10\n",
      "2021-11-26 10:30:50.841026: I tensorflow/stream_executor/platform/default/dso_loader.cc:48] Successfully opened dynamic library libcudnn.so.7\n",
      "2021-11-26 10:30:50.843829: I tensorflow/core/common_runtime/gpu/gpu_device.cc:1858] Adding visible gpu devices: 0, 1\n",
      "2021-11-26 10:30:50.843861: I tensorflow/core/common_runtime/gpu/gpu_device.cc:1257] Device interconnect StreamExecutor with strength 1 edge matrix:\n",
      "2021-11-26 10:30:50.843867: I tensorflow/core/common_runtime/gpu/gpu_device.cc:1263]      0 1 \n",
      "2021-11-26 10:30:50.843871: I tensorflow/core/common_runtime/gpu/gpu_device.cc:1276] 0:   N Y \n",
      "2021-11-26 10:30:50.843874: I tensorflow/core/common_runtime/gpu/gpu_device.cc:1276] 1:   Y N \n",
      "2021-11-26 10:30:50.846053: I tensorflow/core/common_runtime/gpu/gpu_device.cc:1402] Created TensorFlow device (/job:localhost/replica:0/task:0/device:GPU:0 with 7412 MB memory) -> physical GPU (device: 0, name: NVIDIA GeForce GTX 1080, pci bus id: 0000:0a:00.0, compute capability: 6.1)\n",
      "2021-11-26 10:30:50.846782: I tensorflow/core/common_runtime/gpu/gpu_device.cc:1402] Created TensorFlow device (/job:localhost/replica:0/task:0/device:GPU:1 with 7422 MB memory) -> physical GPU (device: 1, name: NVIDIA GeForce GTX 1080, pci bus id: 0000:0b:00.0, compute capability: 6.1)\n"
     ]
    },
    {
     "name": "stdout",
     "output_type": "stream",
     "text": [
      "INFO:tensorflow:Reduce to /job:localhost/replica:0/task:0/device:CPU:0 then broadcast to ('/job:localhost/replica:0/task:0/device:CPU:0',).\n",
      "INFO:tensorflow:Reduce to /job:localhost/replica:0/task:0/device:CPU:0 then broadcast to ('/job:localhost/replica:0/task:0/device:CPU:0',).\n",
      "INFO:tensorflow:Reduce to /job:localhost/replica:0/task:0/device:CPU:0 then broadcast to ('/job:localhost/replica:0/task:0/device:CPU:0',).\n",
      "INFO:tensorflow:Reduce to /job:localhost/replica:0/task:0/device:CPU:0 then broadcast to ('/job:localhost/replica:0/task:0/device:CPU:0',).\n",
      "INFO:tensorflow:Reduce to /job:localhost/replica:0/task:0/device:CPU:0 then broadcast to ('/job:localhost/replica:0/task:0/device:CPU:0',).\n",
      "INFO:tensorflow:Reduce to /job:localhost/replica:0/task:0/device:CPU:0 then broadcast to ('/job:localhost/replica:0/task:0/device:CPU:0',).\n",
      "INFO:tensorflow:Reduce to /job:localhost/replica:0/task:0/device:CPU:0 then broadcast to ('/job:localhost/replica:0/task:0/device:CPU:0',).\n",
      "INFO:tensorflow:Reduce to /job:localhost/replica:0/task:0/device:CPU:0 then broadcast to ('/job:localhost/replica:0/task:0/device:CPU:0',).\n",
      "INFO:tensorflow:Reduce to /job:localhost/replica:0/task:0/device:CPU:0 then broadcast to ('/job:localhost/replica:0/task:0/device:CPU:0',).\n",
      "INFO:tensorflow:Reduce to /job:localhost/replica:0/task:0/device:CPU:0 then broadcast to ('/job:localhost/replica:0/task:0/device:CPU:0',).\n"
     ]
    }
   ],
   "source": [
    "strategy = tf.distribute.MirroredStrategy()\n",
    "with strategy.scope():\n",
    "    baseModel = MobileNetV2(weights=\"imagenet\", include_top=False,\n",
    "    input_shape=(128, 128, 3), input_tensor=Input(shape=(128, 128, 3)))\n",
    "\n",
    "    # construct the head of the model that will be placed on top of the\n",
    "    # the base model\n",
    "\n",
    "    headModel = baseModel.output\n",
    "    headModel = AveragePooling2D(pool_size=(4, 4))(headModel)\n",
    "    headModel = Flatten(name=\"flatten\")(headModel)\n",
    "    headModel = Dense(128, activation=\"relu\")(headModel)\n",
    "    headModel = Dropout(0.5)(headModel)\n",
    "    headModel = Dense(32, activation=\"relu\")(headModel)\n",
    "    headModel = Dense(2, activation=\"softmax\")(headModel)\n",
    "\n",
    "    # place the head FC model on top of the base model (this will become\n",
    "    # the actual model we will train)\n",
    "\n",
    "    model = Model(inputs=baseModel.input, outputs=headModel)\n",
    "\n",
    "    # loop over all layers in the base model and freeze them so they will\n",
    "    # *not* be updated during the first training process\n",
    "\n",
    "    baseModel.trainable = False\n",
    "\n",
    "    model.compile(\n",
    "        loss = 'binary_crossentropy',  #binary_crossentropy\n",
    "        optimizer = Adam(learning_rate = 1e-5),\n",
    "        metrics = ['acc']\n",
    "                  )"
   ]
  },
  {
   "cell_type": "code",
   "execution_count": 8,
   "id": "f512a60a-13de-400b-83c3-f3d78c8194dd",
   "metadata": {},
   "outputs": [],
   "source": [
    "# checkpoint 만들기\n",
    "checkpoint_path = '/root/data/model/mobilenetv2/check/tmp_checkpoint.ckpt'\n",
    "\n",
    "checkpoint = ModelCheckpoint(\n",
    "    filepath=checkpoint_path\n",
    "    ,save_weights_only=True\n",
    "    ,save_best_only=True\n",
    "    ,monitor='val_loss' # val_loss\n",
    "    ,verbose=1\n",
    ")"
   ]
  },
  {
   "cell_type": "code",
   "execution_count": 9,
   "id": "9c15810a-4bd0-4aaf-ba5e-50b3bfcf1b8a",
   "metadata": {
    "tags": []
   },
   "outputs": [
    {
     "name": "stderr",
     "output_type": "stream",
     "text": [
      "2021-11-26 10:30:54.054164: W tensorflow/core/framework/cpu_allocator_impl.cc:81] Allocation of 13476298752 exceeds 10% of free system memory.\n",
      "2021-11-26 10:30:58.686626: W tensorflow/core/framework/cpu_allocator_impl.cc:81] Allocation of 13476298752 exceeds 10% of free system memory.\n"
     ]
    },
    {
     "name": "stdout",
     "output_type": "stream",
     "text": [
      "Epoch 1/50\n",
      "INFO:tensorflow:batch_all_reduce: 6 all-reduces with algorithm = nccl, num_packs = 1\n",
      "INFO:tensorflow:batch_all_reduce: 6 all-reduces with algorithm = nccl, num_packs = 1\n"
     ]
    },
    {
     "name": "stderr",
     "output_type": "stream",
     "text": [
      "2021-11-26 10:31:11.801950: I tensorflow/stream_executor/platform/default/dso_loader.cc:48] Successfully opened dynamic library libcublas.so.10\n",
      "2021-11-26 10:31:11.911910: I tensorflow/stream_executor/platform/default/dso_loader.cc:48] Successfully opened dynamic library libcudnn.so.7\n"
     ]
    },
    {
     "name": "stdout",
     "output_type": "stream",
     "text": [
      "34269/34272 [============================>.] - ETA: 0s - loss: 0.5663 - acc: 0.7073\n",
      "Epoch 00001: val_loss improved from inf to 0.46906, saving model to /root/data/model/mobilenetv2/check/tmp_checkpoint.ckpt\n",
      "34272/34272 [==============================] - 364s 11ms/step - loss: 0.5663 - acc: 0.7072 - val_loss: 0.4691 - val_acc: 0.7508\n",
      "Epoch 2/50\n",
      "34270/34272 [============================>.] - ETA: 0s - loss: 0.4882 - acc: 0.7581\n",
      "Epoch 00002: val_loss improved from 0.46906 to 0.44991, saving model to /root/data/model/mobilenetv2/check/tmp_checkpoint.ckpt\n",
      "34272/34272 [==============================] - 364s 11ms/step - loss: 0.4882 - acc: 0.7582 - val_loss: 0.4499 - val_acc: 0.7696\n",
      "Epoch 3/50\n",
      "34272/34272 [==============================] - ETA: 0s - loss: 0.4698 - acc: 0.7689\n",
      "Epoch 00003: val_loss improved from 0.44991 to 0.44800, saving model to /root/data/model/mobilenetv2/check/tmp_checkpoint.ckpt\n",
      "34272/34272 [==============================] - 363s 11ms/step - loss: 0.4698 - acc: 0.7689 - val_loss: 0.4480 - val_acc: 0.7703\n",
      "Epoch 4/50\n",
      "34271/34272 [============================>.] - ETA: 0s - loss: 0.4590 - acc: 0.7758\n",
      "Epoch 00004: val_loss improved from 0.44800 to 0.44157, saving model to /root/data/model/mobilenetv2/check/tmp_checkpoint.ckpt\n",
      "34272/34272 [==============================] - 364s 11ms/step - loss: 0.4590 - acc: 0.7757 - val_loss: 0.4416 - val_acc: 0.7809\n",
      "Epoch 5/50\n",
      "34267/34272 [============================>.] - ETA: 0s - loss: 0.4511 - acc: 0.7786\n",
      "Epoch 00005: val_loss improved from 0.44157 to 0.43882, saving model to /root/data/model/mobilenetv2/check/tmp_checkpoint.ckpt\n",
      "34272/34272 [==============================] - 362s 11ms/step - loss: 0.4511 - acc: 0.7786 - val_loss: 0.4388 - val_acc: 0.7861\n",
      "Epoch 6/50\n",
      "34267/34272 [============================>.] - ETA: 0s - loss: 0.4452 - acc: 0.7838\n",
      "Epoch 00006: val_loss did not improve from 0.43882\n",
      "34272/34272 [==============================] - 362s 11ms/step - loss: 0.4452 - acc: 0.7838 - val_loss: 0.4401 - val_acc: 0.7831\n",
      "Epoch 7/50\n",
      "34272/34272 [==============================] - ETA: 0s - loss: 0.4402 - acc: 0.7861\n",
      "Epoch 00007: val_loss improved from 0.43882 to 0.43524, saving model to /root/data/model/mobilenetv2/check/tmp_checkpoint.ckpt\n",
      "34272/34272 [==============================] - 363s 11ms/step - loss: 0.4402 - acc: 0.7861 - val_loss: 0.4352 - val_acc: 0.7884\n",
      "Epoch 8/50\n",
      "34271/34272 [============================>.] - ETA: 0s - loss: 0.4354 - acc: 0.7894\n",
      "Epoch 00008: val_loss did not improve from 0.43524\n",
      "34272/34272 [==============================] - 362s 11ms/step - loss: 0.4354 - acc: 0.7894 - val_loss: 0.4361 - val_acc: 0.7801\n",
      "Epoch 9/50\n",
      "34270/34272 [============================>.] - ETA: 0s - loss: 0.4323 - acc: 0.7907\n",
      "Epoch 00009: val_loss did not improve from 0.43524\n",
      "34272/34272 [==============================] - 361s 11ms/step - loss: 0.4323 - acc: 0.7907 - val_loss: 0.4371 - val_acc: 0.7748\n",
      "Epoch 10/50\n",
      "34268/34272 [============================>.] - ETA: 0s - loss: 0.4282 - acc: 0.7942\n",
      "Epoch 00010: val_loss did not improve from 0.43524\n",
      "34272/34272 [==============================] - 358s 10ms/step - loss: 0.4281 - acc: 0.7942 - val_loss: 0.4360 - val_acc: 0.7816\n",
      "Epoch 11/50\n",
      "34272/34272 [==============================] - ETA: 0s - loss: 0.4247 - acc: 0.7963\n",
      "Epoch 00011: val_loss did not improve from 0.43524\n",
      "34272/34272 [==============================] - 357s 10ms/step - loss: 0.4247 - acc: 0.7963 - val_loss: 0.4393 - val_acc: 0.7794\n",
      "Epoch 12/50\n",
      "34269/34272 [============================>.] - ETA: 0s - loss: 0.4201 - acc: 0.7984\n",
      "Epoch 00012: val_loss did not improve from 0.43524\n",
      "34272/34272 [==============================] - 358s 10ms/step - loss: 0.4201 - acc: 0.7984 - val_loss: 0.4376 - val_acc: 0.7824\n",
      "Epoch 13/50\n",
      "34271/34272 [============================>.] - ETA: 0s - loss: 0.4180 - acc: 0.8014\n",
      "Epoch 00013: val_loss improved from 0.43524 to 0.43196, saving model to /root/data/model/mobilenetv2/check/tmp_checkpoint.ckpt\n",
      "34272/34272 [==============================] - 357s 10ms/step - loss: 0.4180 - acc: 0.8014 - val_loss: 0.4320 - val_acc: 0.7779\n",
      "Epoch 14/50\n",
      "34268/34272 [============================>.] - ETA: 0s - loss: 0.4147 - acc: 0.8017\n",
      "Epoch 00014: val_loss did not improve from 0.43196\n",
      "34272/34272 [==============================] - 358s 10ms/step - loss: 0.4147 - acc: 0.8017 - val_loss: 0.4356 - val_acc: 0.7748\n",
      "Epoch 15/50\n",
      "34269/34272 [============================>.] - ETA: 0s - loss: 0.4097 - acc: 0.8051\n",
      "Epoch 00015: val_loss did not improve from 0.43196\n",
      "34272/34272 [==============================] - 358s 10ms/step - loss: 0.4097 - acc: 0.8051 - val_loss: 0.4335 - val_acc: 0.7794\n",
      "Epoch 16/50\n",
      "34272/34272 [==============================] - ETA: 0s - loss: 0.4091 - acc: 0.8063\n",
      "Epoch 00016: val_loss did not improve from 0.43196\n",
      "34272/34272 [==============================] - 358s 10ms/step - loss: 0.4091 - acc: 0.8063 - val_loss: 0.4357 - val_acc: 0.7771\n",
      "Epoch 17/50\n",
      "34270/34272 [============================>.] - ETA: 0s - loss: 0.4052 - acc: 0.8071\n",
      "Epoch 00017: val_loss did not improve from 0.43196\n",
      "34272/34272 [==============================] - 358s 10ms/step - loss: 0.4052 - acc: 0.8071 - val_loss: 0.4368 - val_acc: 0.7748\n",
      "Epoch 18/50\n",
      "34268/34272 [============================>.] - ETA: 0s - loss: 0.4019 - acc: 0.8078\n",
      "Epoch 00018: val_loss did not improve from 0.43196\n",
      "34272/34272 [==============================] - 357s 10ms/step - loss: 0.4019 - acc: 0.8078 - val_loss: 0.4331 - val_acc: 0.7794\n",
      "Epoch 19/50\n",
      "34272/34272 [==============================] - ETA: 0s - loss: 0.4011 - acc: 0.8094\n",
      "Epoch 00019: val_loss did not improve from 0.43196\n",
      "34272/34272 [==============================] - 357s 10ms/step - loss: 0.4011 - acc: 0.8094 - val_loss: 0.4381 - val_acc: 0.7748\n",
      "Epoch 20/50\n",
      "34268/34272 [============================>.] - ETA: 0s - loss: 0.3974 - acc: 0.8120\n",
      "Epoch 00020: val_loss did not improve from 0.43196\n",
      "34272/34272 [==============================] - 357s 10ms/step - loss: 0.3974 - acc: 0.8120 - val_loss: 0.4330 - val_acc: 0.7839\n",
      "Epoch 21/50\n",
      "34271/34272 [============================>.] - ETA: 0s - loss: 0.3936 - acc: 0.8147\n",
      "Epoch 00021: val_loss did not improve from 0.43196\n",
      "34272/34272 [==============================] - 358s 10ms/step - loss: 0.3936 - acc: 0.8147 - val_loss: 0.4349 - val_acc: 0.7816\n",
      "Epoch 22/50\n",
      "34271/34272 [============================>.] - ETA: 0s - loss: 0.3927 - acc: 0.8149\n",
      "Epoch 00022: val_loss did not improve from 0.43196\n",
      "34272/34272 [==============================] - 358s 10ms/step - loss: 0.3927 - acc: 0.8149 - val_loss: 0.4371 - val_acc: 0.7816\n",
      "Epoch 23/50\n",
      "34271/34272 [============================>.] - ETA: 0s - loss: 0.3899 - acc: 0.8169\n",
      "Epoch 00023: val_loss did not improve from 0.43196\n",
      "34272/34272 [==============================] - 358s 10ms/step - loss: 0.3899 - acc: 0.8169 - val_loss: 0.4369 - val_acc: 0.7794\n",
      "Epoch 24/50\n",
      "34268/34272 [============================>.] - ETA: 0s - loss: 0.3874 - acc: 0.8180\n",
      "Epoch 00024: val_loss did not improve from 0.43196\n",
      "34272/34272 [==============================] - 358s 10ms/step - loss: 0.3874 - acc: 0.8180 - val_loss: 0.4399 - val_acc: 0.7771\n",
      "Epoch 25/50\n",
      "34270/34272 [============================>.] - ETA: 0s - loss: 0.3836 - acc: 0.8194\n",
      "Epoch 00025: val_loss did not improve from 0.43196\n",
      "34272/34272 [==============================] - 357s 10ms/step - loss: 0.3836 - acc: 0.8194 - val_loss: 0.4450 - val_acc: 0.7786\n",
      "Epoch 26/50\n",
      "34269/34272 [============================>.] - ETA: 0s - loss: 0.3805 - acc: 0.8213\n",
      "Epoch 00026: val_loss did not improve from 0.43196\n",
      "34272/34272 [==============================] - 357s 10ms/step - loss: 0.3804 - acc: 0.8213 - val_loss: 0.4425 - val_acc: 0.7839\n",
      "Epoch 27/50\n",
      "34268/34272 [============================>.] - ETA: 0s - loss: 0.3778 - acc: 0.8232\n",
      "Epoch 00027: val_loss did not improve from 0.43196\n",
      "34272/34272 [==============================] - 358s 10ms/step - loss: 0.3778 - acc: 0.8232 - val_loss: 0.4398 - val_acc: 0.7816\n",
      "Epoch 28/50\n",
      "34270/34272 [============================>.] - ETA: 0s - loss: 0.3752 - acc: 0.8256\n",
      "Epoch 00028: val_loss did not improve from 0.43196\n",
      "34272/34272 [==============================] - 358s 10ms/step - loss: 0.3752 - acc: 0.8256 - val_loss: 0.4409 - val_acc: 0.7861\n",
      "Epoch 29/50\n",
      "34270/34272 [============================>.] - ETA: 0s - loss: 0.3724 - acc: 0.8262\n",
      "Epoch 00029: val_loss did not improve from 0.43196\n",
      "34272/34272 [==============================] - 358s 10ms/step - loss: 0.3724 - acc: 0.8262 - val_loss: 0.4529 - val_acc: 0.7824\n",
      "Epoch 30/50\n",
      "34271/34272 [============================>.] - ETA: 0s - loss: 0.3689 - acc: 0.8294\n",
      "Epoch 00030: val_loss did not improve from 0.43196\n",
      "34272/34272 [==============================] - 357s 10ms/step - loss: 0.3689 - acc: 0.8295 - val_loss: 0.4492 - val_acc: 0.7839\n",
      "Epoch 31/50\n",
      "34272/34272 [==============================] - ETA: 0s - loss: 0.3677 - acc: 0.8298\n",
      "Epoch 00031: val_loss did not improve from 0.43196\n",
      "34272/34272 [==============================] - 357s 10ms/step - loss: 0.3677 - acc: 0.8298 - val_loss: 0.4514 - val_acc: 0.7854\n",
      "Epoch 32/50\n",
      "34272/34272 [==============================] - ETA: 0s - loss: 0.3635 - acc: 0.8324\n",
      "Epoch 00032: val_loss did not improve from 0.43196\n",
      "34272/34272 [==============================] - 357s 10ms/step - loss: 0.3635 - acc: 0.8324 - val_loss: 0.4477 - val_acc: 0.7892\n",
      "Epoch 33/50\n",
      "34271/34272 [============================>.] - ETA: 0s - loss: 0.3638 - acc: 0.8322\n",
      "Epoch 00033: val_loss did not improve from 0.43196\n",
      "34272/34272 [==============================] - 358s 10ms/step - loss: 0.3638 - acc: 0.8323 - val_loss: 0.4516 - val_acc: 0.7816\n",
      "Epoch 34/50\n",
      "34269/34272 [============================>.] - ETA: 0s - loss: 0.3599 - acc: 0.8330\n",
      "Epoch 00034: val_loss did not improve from 0.43196\n",
      "34272/34272 [==============================] - 358s 10ms/step - loss: 0.3599 - acc: 0.8330 - val_loss: 0.4540 - val_acc: 0.7854\n",
      "Epoch 35/50\n",
      "34271/34272 [============================>.] - ETA: 0s - loss: 0.3577 - acc: 0.8342\n",
      "Epoch 00035: val_loss did not improve from 0.43196\n",
      "34272/34272 [==============================] - 358s 10ms/step - loss: 0.3577 - acc: 0.8342 - val_loss: 0.4520 - val_acc: 0.7884\n",
      "Epoch 36/50\n",
      "34270/34272 [============================>.] - ETA: 0s - loss: 0.3543 - acc: 0.8371\n",
      "Epoch 00036: val_loss did not improve from 0.43196\n",
      "34272/34272 [==============================] - 358s 10ms/step - loss: 0.3543 - acc: 0.8371 - val_loss: 0.4601 - val_acc: 0.7809\n",
      "Epoch 37/50\n",
      "34271/34272 [============================>.] - ETA: 0s - loss: 0.3525 - acc: 0.8383\n",
      "Epoch 00037: val_loss did not improve from 0.43196\n",
      "34272/34272 [==============================] - 357s 10ms/step - loss: 0.3525 - acc: 0.8383 - val_loss: 0.4513 - val_acc: 0.7861\n",
      "Epoch 38/50\n",
      "34268/34272 [============================>.] - ETA: 0s - loss: 0.3499 - acc: 0.8390\n",
      "Epoch 00038: val_loss did not improve from 0.43196\n",
      "34272/34272 [==============================] - 358s 10ms/step - loss: 0.3499 - acc: 0.8390 - val_loss: 0.4657 - val_acc: 0.7846\n",
      "Epoch 39/50\n",
      "34271/34272 [============================>.] - ETA: 0s - loss: 0.3466 - acc: 0.8402\n",
      "Epoch 00039: val_loss did not improve from 0.43196\n",
      "34272/34272 [==============================] - 358s 10ms/step - loss: 0.3466 - acc: 0.8402 - val_loss: 0.4615 - val_acc: 0.7831\n",
      "Epoch 40/50\n",
      "34269/34272 [============================>.] - ETA: 0s - loss: 0.3455 - acc: 0.8415\n",
      "Epoch 00040: val_loss did not improve from 0.43196\n",
      "34272/34272 [==============================] - 358s 10ms/step - loss: 0.3454 - acc: 0.8415 - val_loss: 0.4653 - val_acc: 0.7869\n",
      "Epoch 41/50\n",
      "34272/34272 [==============================] - ETA: 0s - loss: 0.3417 - acc: 0.8422\n",
      "Epoch 00041: val_loss did not improve from 0.43196\n",
      "34272/34272 [==============================] - 358s 10ms/step - loss: 0.3417 - acc: 0.8422 - val_loss: 0.4649 - val_acc: 0.7824\n",
      "Epoch 42/50\n",
      "34271/34272 [============================>.] - ETA: 0s - loss: 0.3402 - acc: 0.8443\n",
      "Epoch 00042: val_loss did not improve from 0.43196\n",
      "34272/34272 [==============================] - 358s 10ms/step - loss: 0.3402 - acc: 0.8443 - val_loss: 0.4730 - val_acc: 0.7839\n",
      "Epoch 43/50\n",
      "34272/34272 [==============================] - ETA: 0s - loss: 0.3384 - acc: 0.8452\n",
      "Epoch 00043: val_loss did not improve from 0.43196\n",
      "34272/34272 [==============================] - 357s 10ms/step - loss: 0.3384 - acc: 0.8452 - val_loss: 0.4682 - val_acc: 0.7839\n",
      "Epoch 44/50\n",
      "34268/34272 [============================>.] - ETA: 0s - loss: 0.3349 - acc: 0.8477\n",
      "Epoch 00044: val_loss did not improve from 0.43196\n",
      "34272/34272 [==============================] - 358s 10ms/step - loss: 0.3350 - acc: 0.8476 - val_loss: 0.4819 - val_acc: 0.7824\n",
      "Epoch 45/50\n",
      "34268/34272 [============================>.] - ETA: 0s - loss: 0.3320 - acc: 0.8494\n",
      "Epoch 00045: val_loss did not improve from 0.43196\n",
      "34272/34272 [==============================] - 357s 10ms/step - loss: 0.3320 - acc: 0.8494 - val_loss: 0.4859 - val_acc: 0.7801\n",
      "Epoch 46/50\n",
      "34269/34272 [============================>.] - ETA: 0s - loss: 0.3313 - acc: 0.8484\n",
      "Epoch 00046: val_loss did not improve from 0.43196\n",
      "34272/34272 [==============================] - 358s 10ms/step - loss: 0.3313 - acc: 0.8484 - val_loss: 0.4729 - val_acc: 0.7899\n",
      "Epoch 47/50\n",
      "34270/34272 [============================>.] - ETA: 0s - loss: 0.3303 - acc: 0.8498\n",
      "Epoch 00047: val_loss did not improve from 0.43196\n",
      "34272/34272 [==============================] - 357s 10ms/step - loss: 0.3303 - acc: 0.8498 - val_loss: 0.4845 - val_acc: 0.7854\n",
      "Epoch 48/50\n",
      "34267/34272 [============================>.] - ETA: 0s - loss: 0.3262 - acc: 0.8523\n",
      "Epoch 00048: val_loss did not improve from 0.43196\n",
      "34272/34272 [==============================] - 358s 10ms/step - loss: 0.3262 - acc: 0.8523 - val_loss: 0.4901 - val_acc: 0.7854\n",
      "Epoch 49/50\n",
      "34270/34272 [============================>.] - ETA: 0s - loss: 0.3231 - acc: 0.8537\n",
      "Epoch 00049: val_loss did not improve from 0.43196\n",
      "34272/34272 [==============================] - 358s 10ms/step - loss: 0.3231 - acc: 0.8537 - val_loss: 0.4849 - val_acc: 0.7899\n",
      "Epoch 50/50\n",
      "34271/34272 [============================>.] - ETA: 0s - loss: 0.3220 - acc: 0.8530\n",
      "Epoch 00050: val_loss did not improve from 0.43196\n",
      "34272/34272 [==============================] - 358s 10ms/step - loss: 0.3220 - acc: 0.8529 - val_loss: 0.4850 - val_acc: 0.7869\n"
     ]
    }
   ],
   "source": [
    "# 모델 학습\n",
    "hist = model.fit(X_train, \n",
    "                 y_train, \n",
    "                 epochs = 50, \n",
    "                 batch_size = 2, \n",
    "                 validation_data = (X_val, y_val),\n",
    "                 callbacks=[checkpoint])"
   ]
  },
  {
   "cell_type": "code",
   "execution_count": 10,
   "id": "1028f0f0-c3f3-4808-bc96-ea605f6d9c47",
   "metadata": {},
   "outputs": [],
   "source": [
    "model.save('/root/data/model/mobilenetv2/model_save/mobilenetv21126.h5')"
   ]
  },
  {
   "cell_type": "code",
   "execution_count": 11,
   "id": "6fdaf5ec-3835-4870-abb2-8a1c5c7a3ab5",
   "metadata": {},
   "outputs": [
    {
     "data": {
      "text/plain": [
       "<tensorflow.python.training.tracking.util.CheckpointLoadStatus at 0x7fa727119b90>"
      ]
     },
     "execution_count": 11,
     "metadata": {},
     "output_type": "execute_result"
    }
   ],
   "source": [
    "model.load_weights(checkpoint_path)"
   ]
  },
  {
   "cell_type": "code",
   "execution_count": 12,
   "id": "5f01d6fc-ec33-4138-8856-415be19379e7",
   "metadata": {},
   "outputs": [],
   "source": [
    "model.save('/root/data/model/mobilenetv2/model_save/mobilenetv2_best_val_loss1126.h5')"
   ]
  },
  {
   "cell_type": "markdown",
   "id": "ef7afaf1-7292-42da-8da5-0394a8375983",
   "metadata": {},
   "source": [
    "## 학습과load_weights화"
   ]
  },
  {
   "cell_type": "code",
   "execution_count": 13,
   "id": "e3292b73-5470-43c9-8108-204dd720c5f9",
   "metadata": {},
   "outputs": [
    {
     "data": {
      "image/png": "[encoded data removed]",
      "text/plain": [
       "<Figure size 432x288 with 2 Axes>"
      ]
     },
     "metadata": {
      "needs_background": "light"
     },
     "output_type": "display_data"
    }
   ],
   "source": [
    "# 학습과정 표시\n",
    "fig, loss_ax = plt.subplots()\n",
    "\n",
    "acc_ax = loss_ax.twinx()\n",
    "\n",
    "loss_ax.plot(hist.history['loss'], 'y', label='train loss')\n",
    "loss_ax.plot(hist.history['val_loss'], 'r', label='val loss')\n",
    "\n",
    "acc_ax.plot(hist.history['acc'], 'b', label='train acc')\n",
    "acc_ax.plot(hist.history['val_acc'], 'g', label='val acc')\n",
    "\n",
    "loss_ax.set_xlabel('epoch')\n",
    "loss_ax.set_ylabel('loss')\n",
    "acc_ax.set_ylabel('accuray')\n",
    "\n",
    "loss_ax.legend(loc='upper left')\n",
    "acc_ax.legend(loc='lower left')\n",
    "\n",
    "plt.show()"
   ]
  },
  {
   "cell_type": "code",
   "execution_count": null,
   "id": "807bc237-a9a5-467e-8b20-72754319b8f1",
   "metadata": {},
   "outputs": [],
   "source": [
    "import matplotlib.pyplot as plt\n",
    "\n",
    "def show_graph(history_dict):\n",
    "    accuracy = history_dict['acc']\n",
    "    val_accuracy = history_dict['val_acc']\n",
    "    loss = history_dict['loss']\n",
    "    val_loss = history_dict['val_loss']\n",
    "\n",
    "    epochs = range(1, len(loss) + 1)\n",
    "    \n",
    "    plt.figure(figsize=(9, 1))\n",
    "    \n",
    "    plt.subplot(121)\n",
    "    plt.subplots_adjust(top=2)\n",
    "    plt.plot(epochs, accuracy, 'ro', label='Training accuracy')\n",
    "    plt.plot(epochs, val_accuracy, 'r', label='Validation accuracy')\n",
    "    plt.title('Trainging and validation accuracy and loss')\n",
    "    plt.xlabel('Epochs')\n",
    "    plt.ylabel('Accuracy and Loss')\n",
    "\n",
    "    plt.legend(loc='upper center', bbox_to_anchor=(0.5, -0.1),\n",
    "              fancybox=True, shadow=True, ncol=5)\n",
    "#     plt.legend(bbox_to_anchor=(1, -0.1))\n",
    "\n",
    "    plt.subplot(122)\n",
    "    plt.plot(epochs, loss, 'bo', label='Training loss')\n",
    "    plt.plot(epochs, val_loss, 'b', label='Validation loss')\n",
    "    plt.title('Training and validation loss')\n",
    "    plt.xlabel('Epochs')\n",
    "    plt.ylabel('Loss')\n",
    "    plt.legend(loc='upper center', bbox_to_anchor=(0.5, -0.1),\n",
    "          fancybox=True, shadow=True, ncol=5)\n",
    "#     plt.legend(bbox_to_anchor=(1, 0))\n",
    "\n",
    "    plt.show()\n",
    "show_graph(hist.history)"
   ]
  },
  {
   "cell_type": "code",
   "execution_count": null,
   "id": "f0533d7b-7ac2-4536-986c-42d35fa0a6cc",
   "metadata": {},
   "outputs": [],
   "source": [
    "X_test[0].shape"
   ]
  },
  {
   "cell_type": "code",
   "execution_count": null,
   "id": "1e845803-7ba3-445e-966e-cd7b440f7f38",
   "metadata": {
    "tags": []
   },
   "outputs": [],
   "source": [
    "model.evaluate(X_test[:15],y_test[:15])"
   ]
  },
  {
   "cell_type": "code",
   "execution_count": null,
   "id": "028d9be7-eea7-422c-b12c-cde4c1fb86dc",
   "metadata": {
    "tags": []
   },
   "outputs": [],
   "source": [
    "model.predict(X_test[:5])"
   ]
  },
  {
   "cell_type": "code",
   "execution_count": null,
   "id": "bc3295f7-d569-47ea-947c-bb3c28f7cd4a",
   "metadata": {},
   "outputs": [],
   "source": [
    "plt.imshow(X_test[2])\n",
    "print(y_test[2])"
   ]
  },
  {
   "cell_type": "code",
   "execution_count": null,
   "id": "0e17e96f-2423-4c8a-af2d-556e3807f9d5",
   "metadata": {},
   "outputs": [],
   "source": [
    "plt.imshow(X_test[3])\n",
    "print(y_test[3])"
   ]
  }
 ],
 "metadata": {
  "kernelspec": {
   "display_name": "gpu_env",
   "language": "python",
   "name": "gpu_env"
  },
  "language_info": {
   "codemirror_mode": {
    "name": "ipython",
    "version": 3
   },
   "file_extension": ".py",
   "mimetype": "text/x-python",
   "name": "python",
   "nbconvert_exporter": "python",
   "pygments_lexer": "ipython3",
   "version": "3.7.11"
  }
 },
 "nbformat": 4,
 "nbformat_minor": 5
}
